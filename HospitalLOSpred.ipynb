{
  "cells": [
    {
      "cell_type": "markdown",
      "metadata": {
        "id": "view-in-github",
        "colab_type": "text"
      },
      "source": [
        "<a href=\"https://colab.research.google.com/github/KevKibe/Hospital-LOS-Prediction/blob/main/HospitalLOSpred.ipynb\" target=\"_parent\"><img src=\"https://colab.research.google.com/assets/colab-badge.svg\" alt=\"Open In Colab\"/></a>"
      ]
    },
    {
      "cell_type": "code",
      "execution_count": 1,
      "metadata": {
        "id": "2BP2Zi68Q5yd"
      },
      "outputs": [],
      "source": [
        "import pandas as pd\n",
        "import numpy as np\n",
        "\n",
        "from sklearn.model_selection import train_test_split, cross_val_score, KFold\n",
        "\n",
        "from sklearn.linear_model import LinearRegression, Ridge, Lasso\n",
        "\n",
        "from sklearn.tree import DecisionTreeRegressor\n",
        "\n",
        "from sklearn.ensemble import RandomForestRegressor,BaggingRegressor\n",
        "\n",
        "from sklearn.preprocessing import LabelEncoder\n",
        "\n",
        "# For tuning the model\n",
        "\n",
        "from sklearn.model_selection import GridSearchCV\n",
        "\n",
        "# To check the model performance\n",
        "\n",
        "from sklearn.metrics import make_scorer,mean_squared_error, r2_score, mean_absolute_error"
      ]
    },
    {
      "cell_type": "code",
      "execution_count": 3,
      "metadata": {
        "colab": {
          "base_uri": "https://localhost:8080/",
          "height": 791
        },
        "id": "dnUx_u6zT9hy",
        "outputId": "287a3e52-4523-44bb-a38e-b1266c6cb764"
      },
      "outputs": [
        {
          "output_type": "stream",
          "name": "stdout",
          "text": [
            "<class 'pandas.core.frame.DataFrame'>\n",
            "RangeIndex: 500000 entries, 0 to 499999\n",
            "Data columns (total 15 columns):\n",
            " #   Column                             Non-Null Count   Dtype  \n",
            "---  ------                             --------------   -----  \n",
            " 0   Available Extra Rooms in Hospital  500000 non-null  int64  \n",
            " 1   Department                         500000 non-null  object \n",
            " 2   Ward_Facility_Code                 500000 non-null  object \n",
            " 3   doctor_name                        500000 non-null  object \n",
            " 4   staff_available                    500000 non-null  int64  \n",
            " 5   patientid                          500000 non-null  int64  \n",
            " 6   Age                                500000 non-null  object \n",
            " 7   gender                             500000 non-null  object \n",
            " 8   Type of Admission                  500000 non-null  object \n",
            " 9   Severity of Illness                500000 non-null  object \n",
            " 10  health_conditions                  500000 non-null  object \n",
            " 11  Visitors with Patient              500000 non-null  int64  \n",
            " 12  Insurance                          500000 non-null  object \n",
            " 13  Admission_Deposit                  500000 non-null  float64\n",
            " 14  Stay (in days)                     500000 non-null  int64  \n",
            "dtypes: float64(1), int64(5), object(9)\n",
            "memory usage: 57.2+ MB\n"
          ]
        },
        {
          "output_type": "execute_result",
          "data": {
            "text/plain": [
              "   Available Extra Rooms in Hospital  Department Ward_Facility_Code  \\\n",
              "0                                  4  gynecology                  D   \n",
              "1                                  4  gynecology                  B   \n",
              "2                                  2  gynecology                  B   \n",
              "3                                  4  gynecology                  D   \n",
              "4                                  2  anesthesia                  E   \n",
              "\n",
              "  doctor_name  staff_available  patientid    Age  gender Type of Admission  \\\n",
              "0   Dr Sophia                0      33070  41-50  Female            Trauma   \n",
              "1   Dr Sophia                2      34808  31-40  Female            Trauma   \n",
              "2   Dr Sophia                8      44577  21-30  Female            Trauma   \n",
              "3   Dr Olivia                7       3695  31-40  Female            Urgent   \n",
              "4     Dr Mark               10     108956  71-80    Male            Trauma   \n",
              "\n",
              "  Severity of Illness health_conditions  Visitors with Patient Insurance  \\\n",
              "0             Extreme          Diabetes                      4       Yes   \n",
              "1               Minor     Heart disease                      2        No   \n",
              "2             Extreme          Diabetes                      2       Yes   \n",
              "3            Moderate              None                      4        No   \n",
              "4            Moderate          Diabetes                      2        No   \n",
              "\n",
              "   Admission_Deposit  Stay (in days)  \n",
              "0        2966.408696               8  \n",
              "1        3554.835677               9  \n",
              "2        5624.733654               7  \n",
              "3        4814.149231               8  \n",
              "4        5169.269637              34  "
            ],
            "text/html": [
              "\n",
              "  <div id=\"df-dd331aeb-6180-41c9-bd9c-a7befe8bb5b1\">\n",
              "    <div class=\"colab-df-container\">\n",
              "      <div>\n",
              "<style scoped>\n",
              "    .dataframe tbody tr th:only-of-type {\n",
              "        vertical-align: middle;\n",
              "    }\n",
              "\n",
              "    .dataframe tbody tr th {\n",
              "        vertical-align: top;\n",
              "    }\n",
              "\n",
              "    .dataframe thead th {\n",
              "        text-align: right;\n",
              "    }\n",
              "</style>\n",
              "<table border=\"1\" class=\"dataframe\">\n",
              "  <thead>\n",
              "    <tr style=\"text-align: right;\">\n",
              "      <th></th>\n",
              "      <th>Available Extra Rooms in Hospital</th>\n",
              "      <th>Department</th>\n",
              "      <th>Ward_Facility_Code</th>\n",
              "      <th>doctor_name</th>\n",
              "      <th>staff_available</th>\n",
              "      <th>patientid</th>\n",
              "      <th>Age</th>\n",
              "      <th>gender</th>\n",
              "      <th>Type of Admission</th>\n",
              "      <th>Severity of Illness</th>\n",
              "      <th>health_conditions</th>\n",
              "      <th>Visitors with Patient</th>\n",
              "      <th>Insurance</th>\n",
              "      <th>Admission_Deposit</th>\n",
              "      <th>Stay (in days)</th>\n",
              "    </tr>\n",
              "  </thead>\n",
              "  <tbody>\n",
              "    <tr>\n",
              "      <th>0</th>\n",
              "      <td>4</td>\n",
              "      <td>gynecology</td>\n",
              "      <td>D</td>\n",
              "      <td>Dr Sophia</td>\n",
              "      <td>0</td>\n",
              "      <td>33070</td>\n",
              "      <td>41-50</td>\n",
              "      <td>Female</td>\n",
              "      <td>Trauma</td>\n",
              "      <td>Extreme</td>\n",
              "      <td>Diabetes</td>\n",
              "      <td>4</td>\n",
              "      <td>Yes</td>\n",
              "      <td>2966.408696</td>\n",
              "      <td>8</td>\n",
              "    </tr>\n",
              "    <tr>\n",
              "      <th>1</th>\n",
              "      <td>4</td>\n",
              "      <td>gynecology</td>\n",
              "      <td>B</td>\n",
              "      <td>Dr Sophia</td>\n",
              "      <td>2</td>\n",
              "      <td>34808</td>\n",
              "      <td>31-40</td>\n",
              "      <td>Female</td>\n",
              "      <td>Trauma</td>\n",
              "      <td>Minor</td>\n",
              "      <td>Heart disease</td>\n",
              "      <td>2</td>\n",
              "      <td>No</td>\n",
              "      <td>3554.835677</td>\n",
              "      <td>9</td>\n",
              "    </tr>\n",
              "    <tr>\n",
              "      <th>2</th>\n",
              "      <td>2</td>\n",
              "      <td>gynecology</td>\n",
              "      <td>B</td>\n",
              "      <td>Dr Sophia</td>\n",
              "      <td>8</td>\n",
              "      <td>44577</td>\n",
              "      <td>21-30</td>\n",
              "      <td>Female</td>\n",
              "      <td>Trauma</td>\n",
              "      <td>Extreme</td>\n",
              "      <td>Diabetes</td>\n",
              "      <td>2</td>\n",
              "      <td>Yes</td>\n",
              "      <td>5624.733654</td>\n",
              "      <td>7</td>\n",
              "    </tr>\n",
              "    <tr>\n",
              "      <th>3</th>\n",
              "      <td>4</td>\n",
              "      <td>gynecology</td>\n",
              "      <td>D</td>\n",
              "      <td>Dr Olivia</td>\n",
              "      <td>7</td>\n",
              "      <td>3695</td>\n",
              "      <td>31-40</td>\n",
              "      <td>Female</td>\n",
              "      <td>Urgent</td>\n",
              "      <td>Moderate</td>\n",
              "      <td>None</td>\n",
              "      <td>4</td>\n",
              "      <td>No</td>\n",
              "      <td>4814.149231</td>\n",
              "      <td>8</td>\n",
              "    </tr>\n",
              "    <tr>\n",
              "      <th>4</th>\n",
              "      <td>2</td>\n",
              "      <td>anesthesia</td>\n",
              "      <td>E</td>\n",
              "      <td>Dr Mark</td>\n",
              "      <td>10</td>\n",
              "      <td>108956</td>\n",
              "      <td>71-80</td>\n",
              "      <td>Male</td>\n",
              "      <td>Trauma</td>\n",
              "      <td>Moderate</td>\n",
              "      <td>Diabetes</td>\n",
              "      <td>2</td>\n",
              "      <td>No</td>\n",
              "      <td>5169.269637</td>\n",
              "      <td>34</td>\n",
              "    </tr>\n",
              "  </tbody>\n",
              "</table>\n",
              "</div>\n",
              "      <button class=\"colab-df-convert\" onclick=\"convertToInteractive('df-dd331aeb-6180-41c9-bd9c-a7befe8bb5b1')\"\n",
              "              title=\"Convert this dataframe to an interactive table.\"\n",
              "              style=\"display:none;\">\n",
              "        \n",
              "  <svg xmlns=\"http://www.w3.org/2000/svg\" height=\"24px\"viewBox=\"0 0 24 24\"\n",
              "       width=\"24px\">\n",
              "    <path d=\"M0 0h24v24H0V0z\" fill=\"none\"/>\n",
              "    <path d=\"M18.56 5.44l.94 2.06.94-2.06 2.06-.94-2.06-.94-.94-2.06-.94 2.06-2.06.94zm-11 1L8.5 8.5l.94-2.06 2.06-.94-2.06-.94L8.5 2.5l-.94 2.06-2.06.94zm10 10l.94 2.06.94-2.06 2.06-.94-2.06-.94-.94-2.06-.94 2.06-2.06.94z\"/><path d=\"M17.41 7.96l-1.37-1.37c-.4-.4-.92-.59-1.43-.59-.52 0-1.04.2-1.43.59L10.3 9.45l-7.72 7.72c-.78.78-.78 2.05 0 2.83L4 21.41c.39.39.9.59 1.41.59.51 0 1.02-.2 1.41-.59l7.78-7.78 2.81-2.81c.8-.78.8-2.07 0-2.86zM5.41 20L4 18.59l7.72-7.72 1.47 1.35L5.41 20z\"/>\n",
              "  </svg>\n",
              "      </button>\n",
              "      \n",
              "  <style>\n",
              "    .colab-df-container {\n",
              "      display:flex;\n",
              "      flex-wrap:wrap;\n",
              "      gap: 12px;\n",
              "    }\n",
              "\n",
              "    .colab-df-convert {\n",
              "      background-color: #E8F0FE;\n",
              "      border: none;\n",
              "      border-radius: 50%;\n",
              "      cursor: pointer;\n",
              "      display: none;\n",
              "      fill: #1967D2;\n",
              "      height: 32px;\n",
              "      padding: 0 0 0 0;\n",
              "      width: 32px;\n",
              "    }\n",
              "\n",
              "    .colab-df-convert:hover {\n",
              "      background-color: #E2EBFA;\n",
              "      box-shadow: 0px 1px 2px rgba(60, 64, 67, 0.3), 0px 1px 3px 1px rgba(60, 64, 67, 0.15);\n",
              "      fill: #174EA6;\n",
              "    }\n",
              "\n",
              "    [theme=dark] .colab-df-convert {\n",
              "      background-color: #3B4455;\n",
              "      fill: #D2E3FC;\n",
              "    }\n",
              "\n",
              "    [theme=dark] .colab-df-convert:hover {\n",
              "      background-color: #434B5C;\n",
              "      box-shadow: 0px 1px 3px 1px rgba(0, 0, 0, 0.15);\n",
              "      filter: drop-shadow(0px 1px 2px rgba(0, 0, 0, 0.3));\n",
              "      fill: #FFFFFF;\n",
              "    }\n",
              "  </style>\n",
              "\n",
              "      <script>\n",
              "        const buttonEl =\n",
              "          document.querySelector('#df-dd331aeb-6180-41c9-bd9c-a7befe8bb5b1 button.colab-df-convert');\n",
              "        buttonEl.style.display =\n",
              "          google.colab.kernel.accessAllowed ? 'block' : 'none';\n",
              "\n",
              "        async function convertToInteractive(key) {\n",
              "          const element = document.querySelector('#df-dd331aeb-6180-41c9-bd9c-a7befe8bb5b1');\n",
              "          const dataTable =\n",
              "            await google.colab.kernel.invokeFunction('convertToInteractive',\n",
              "                                                     [key], {});\n",
              "          if (!dataTable) return;\n",
              "\n",
              "          const docLinkHtml = 'Like what you see? Visit the ' +\n",
              "            '<a target=\"_blank\" href=https://colab.research.google.com/notebooks/data_table.ipynb>data table notebook</a>'\n",
              "            + ' to learn more about interactive tables.';\n",
              "          element.innerHTML = '';\n",
              "          dataTable['output_type'] = 'display_data';\n",
              "          await google.colab.output.renderOutput(dataTable, element);\n",
              "          const docLink = document.createElement('div');\n",
              "          docLink.innerHTML = docLinkHtml;\n",
              "          element.appendChild(docLink);\n",
              "        }\n",
              "      </script>\n",
              "    </div>\n",
              "  </div>\n",
              "  "
            ]
          },
          "metadata": {},
          "execution_count": 3
        }
      ],
      "source": [
        "#loading the dataset to a dataframe\n",
        "df= pd.read_csv('/content/healthcare_data (1).csv')\n",
        "#data exploration \n",
        "df.info()\n",
        "df.head()"
      ]
    },
    {
      "cell_type": "code",
      "execution_count": null,
      "metadata": {
        "id": "glMA4Qw_UJM0"
      },
      "outputs": [],
      "source": [
        "#creating a copy of the data so as not to make changes to the original\n",
        "same_data= df.copy()"
      ]
    },
    {
      "cell_type": "code",
      "execution_count": null,
      "metadata": {
        "colab": {
          "base_uri": "https://localhost:8080/"
        },
        "id": "wYGT16ezU3LU",
        "outputId": "1d643d9c-10ce-4c0b-8a1e-f9a76955bf07"
      },
      "outputs": [
        {
          "output_type": "execute_result",
          "data": {
            "text/plain": [
              "0"
            ]
          },
          "metadata": {},
          "execution_count": 4
        }
      ],
      "source": [
        "#checking for duplicate values\n",
        "df.duplicated().sum()"
      ]
    },
    {
      "cell_type": "markdown",
      "source": [
        "# Data Preparation for Model Building"
      ],
      "metadata": {
        "id": "I1ONF_CbhW84"
      }
    },
    {
      "cell_type": "code",
      "execution_count": 4,
      "metadata": {
        "id": "3QeOhqHfW2su"
      },
      "outputs": [],
      "source": [
        "df = pd.get_dummies(\n",
        "    df,\n",
        "    columns = df.select_dtypes(include = [\"object\", \"category\"]).columns.tolist(),\n",
        "    drop_first = True,\n",
        ")"
      ]
    },
    {
      "cell_type": "code",
      "source": [
        "df.head()"
      ],
      "metadata": {
        "colab": {
          "base_uri": "https://localhost:8080/",
          "height": 352
        },
        "id": "Y_dk-pU8ds1z",
        "outputId": "1508f9ef-c63a-4ef6-c321-69585ca085ea"
      },
      "execution_count": 5,
      "outputs": [
        {
          "output_type": "execute_result",
          "data": {
            "text/plain": [
              "   Available Extra Rooms in Hospital  staff_available  patientid  \\\n",
              "0                                  4                0      33070   \n",
              "1                                  4                2      34808   \n",
              "2                                  2                8      44577   \n",
              "3                                  4                7       3695   \n",
              "4                                  2               10     108956   \n",
              "\n",
              "   Visitors with Patient  Admission_Deposit  Stay (in days)  \\\n",
              "0                      4        2966.408696               8   \n",
              "1                      2        3554.835677               9   \n",
              "2                      2        5624.733654               7   \n",
              "3                      4        4814.149231               8   \n",
              "4                      2        5169.269637              34   \n",
              "\n",
              "   Department_anesthesia  Department_gynecology  Department_radiotherapy  \\\n",
              "0                      0                      1                        0   \n",
              "1                      0                      1                        0   \n",
              "2                      0                      1                        0   \n",
              "3                      0                      1                        0   \n",
              "4                      1                      0                        0   \n",
              "\n",
              "   Department_surgery  ...  Type of Admission_Trauma  \\\n",
              "0                   0  ...                         1   \n",
              "1                   0  ...                         1   \n",
              "2                   0  ...                         1   \n",
              "3                   0  ...                         0   \n",
              "4                   0  ...                         1   \n",
              "\n",
              "   Type of Admission_Urgent  Severity of Illness_Minor  \\\n",
              "0                         0                          0   \n",
              "1                         0                          1   \n",
              "2                         0                          0   \n",
              "3                         1                          0   \n",
              "4                         0                          0   \n",
              "\n",
              "   Severity of Illness_Moderate  health_conditions_Diabetes  \\\n",
              "0                             0                           1   \n",
              "1                             0                           0   \n",
              "2                             0                           1   \n",
              "3                             1                           0   \n",
              "4                             1                           1   \n",
              "\n",
              "   health_conditions_Heart disease  health_conditions_High Blood Pressure  \\\n",
              "0                                0                                      0   \n",
              "1                                1                                      0   \n",
              "2                                0                                      0   \n",
              "3                                0                                      0   \n",
              "4                                0                                      0   \n",
              "\n",
              "   health_conditions_None  health_conditions_Other  Insurance_Yes  \n",
              "0                       0                        0              1  \n",
              "1                       0                        0              0  \n",
              "2                       0                        0              1  \n",
              "3                       1                        0              0  \n",
              "4                       0                        0              0  \n",
              "\n",
              "[5 rows x 44 columns]"
            ],
            "text/html": [
              "\n",
              "  <div id=\"df-962555dc-4f28-4345-b9d4-ae8ecd0a737d\">\n",
              "    <div class=\"colab-df-container\">\n",
              "      <div>\n",
              "<style scoped>\n",
              "    .dataframe tbody tr th:only-of-type {\n",
              "        vertical-align: middle;\n",
              "    }\n",
              "\n",
              "    .dataframe tbody tr th {\n",
              "        vertical-align: top;\n",
              "    }\n",
              "\n",
              "    .dataframe thead th {\n",
              "        text-align: right;\n",
              "    }\n",
              "</style>\n",
              "<table border=\"1\" class=\"dataframe\">\n",
              "  <thead>\n",
              "    <tr style=\"text-align: right;\">\n",
              "      <th></th>\n",
              "      <th>Available Extra Rooms in Hospital</th>\n",
              "      <th>staff_available</th>\n",
              "      <th>patientid</th>\n",
              "      <th>Visitors with Patient</th>\n",
              "      <th>Admission_Deposit</th>\n",
              "      <th>Stay (in days)</th>\n",
              "      <th>Department_anesthesia</th>\n",
              "      <th>Department_gynecology</th>\n",
              "      <th>Department_radiotherapy</th>\n",
              "      <th>Department_surgery</th>\n",
              "      <th>...</th>\n",
              "      <th>Type of Admission_Trauma</th>\n",
              "      <th>Type of Admission_Urgent</th>\n",
              "      <th>Severity of Illness_Minor</th>\n",
              "      <th>Severity of Illness_Moderate</th>\n",
              "      <th>health_conditions_Diabetes</th>\n",
              "      <th>health_conditions_Heart disease</th>\n",
              "      <th>health_conditions_High Blood Pressure</th>\n",
              "      <th>health_conditions_None</th>\n",
              "      <th>health_conditions_Other</th>\n",
              "      <th>Insurance_Yes</th>\n",
              "    </tr>\n",
              "  </thead>\n",
              "  <tbody>\n",
              "    <tr>\n",
              "      <th>0</th>\n",
              "      <td>4</td>\n",
              "      <td>0</td>\n",
              "      <td>33070</td>\n",
              "      <td>4</td>\n",
              "      <td>2966.408696</td>\n",
              "      <td>8</td>\n",
              "      <td>0</td>\n",
              "      <td>1</td>\n",
              "      <td>0</td>\n",
              "      <td>0</td>\n",
              "      <td>...</td>\n",
              "      <td>1</td>\n",
              "      <td>0</td>\n",
              "      <td>0</td>\n",
              "      <td>0</td>\n",
              "      <td>1</td>\n",
              "      <td>0</td>\n",
              "      <td>0</td>\n",
              "      <td>0</td>\n",
              "      <td>0</td>\n",
              "      <td>1</td>\n",
              "    </tr>\n",
              "    <tr>\n",
              "      <th>1</th>\n",
              "      <td>4</td>\n",
              "      <td>2</td>\n",
              "      <td>34808</td>\n",
              "      <td>2</td>\n",
              "      <td>3554.835677</td>\n",
              "      <td>9</td>\n",
              "      <td>0</td>\n",
              "      <td>1</td>\n",
              "      <td>0</td>\n",
              "      <td>0</td>\n",
              "      <td>...</td>\n",
              "      <td>1</td>\n",
              "      <td>0</td>\n",
              "      <td>1</td>\n",
              "      <td>0</td>\n",
              "      <td>0</td>\n",
              "      <td>1</td>\n",
              "      <td>0</td>\n",
              "      <td>0</td>\n",
              "      <td>0</td>\n",
              "      <td>0</td>\n",
              "    </tr>\n",
              "    <tr>\n",
              "      <th>2</th>\n",
              "      <td>2</td>\n",
              "      <td>8</td>\n",
              "      <td>44577</td>\n",
              "      <td>2</td>\n",
              "      <td>5624.733654</td>\n",
              "      <td>7</td>\n",
              "      <td>0</td>\n",
              "      <td>1</td>\n",
              "      <td>0</td>\n",
              "      <td>0</td>\n",
              "      <td>...</td>\n",
              "      <td>1</td>\n",
              "      <td>0</td>\n",
              "      <td>0</td>\n",
              "      <td>0</td>\n",
              "      <td>1</td>\n",
              "      <td>0</td>\n",
              "      <td>0</td>\n",
              "      <td>0</td>\n",
              "      <td>0</td>\n",
              "      <td>1</td>\n",
              "    </tr>\n",
              "    <tr>\n",
              "      <th>3</th>\n",
              "      <td>4</td>\n",
              "      <td>7</td>\n",
              "      <td>3695</td>\n",
              "      <td>4</td>\n",
              "      <td>4814.149231</td>\n",
              "      <td>8</td>\n",
              "      <td>0</td>\n",
              "      <td>1</td>\n",
              "      <td>0</td>\n",
              "      <td>0</td>\n",
              "      <td>...</td>\n",
              "      <td>0</td>\n",
              "      <td>1</td>\n",
              "      <td>0</td>\n",
              "      <td>1</td>\n",
              "      <td>0</td>\n",
              "      <td>0</td>\n",
              "      <td>0</td>\n",
              "      <td>1</td>\n",
              "      <td>0</td>\n",
              "      <td>0</td>\n",
              "    </tr>\n",
              "    <tr>\n",
              "      <th>4</th>\n",
              "      <td>2</td>\n",
              "      <td>10</td>\n",
              "      <td>108956</td>\n",
              "      <td>2</td>\n",
              "      <td>5169.269637</td>\n",
              "      <td>34</td>\n",
              "      <td>1</td>\n",
              "      <td>0</td>\n",
              "      <td>0</td>\n",
              "      <td>0</td>\n",
              "      <td>...</td>\n",
              "      <td>1</td>\n",
              "      <td>0</td>\n",
              "      <td>0</td>\n",
              "      <td>1</td>\n",
              "      <td>1</td>\n",
              "      <td>0</td>\n",
              "      <td>0</td>\n",
              "      <td>0</td>\n",
              "      <td>0</td>\n",
              "      <td>0</td>\n",
              "    </tr>\n",
              "  </tbody>\n",
              "</table>\n",
              "<p>5 rows × 44 columns</p>\n",
              "</div>\n",
              "      <button class=\"colab-df-convert\" onclick=\"convertToInteractive('df-962555dc-4f28-4345-b9d4-ae8ecd0a737d')\"\n",
              "              title=\"Convert this dataframe to an interactive table.\"\n",
              "              style=\"display:none;\">\n",
              "        \n",
              "  <svg xmlns=\"http://www.w3.org/2000/svg\" height=\"24px\"viewBox=\"0 0 24 24\"\n",
              "       width=\"24px\">\n",
              "    <path d=\"M0 0h24v24H0V0z\" fill=\"none\"/>\n",
              "    <path d=\"M18.56 5.44l.94 2.06.94-2.06 2.06-.94-2.06-.94-.94-2.06-.94 2.06-2.06.94zm-11 1L8.5 8.5l.94-2.06 2.06-.94-2.06-.94L8.5 2.5l-.94 2.06-2.06.94zm10 10l.94 2.06.94-2.06 2.06-.94-2.06-.94-.94-2.06-.94 2.06-2.06.94z\"/><path d=\"M17.41 7.96l-1.37-1.37c-.4-.4-.92-.59-1.43-.59-.52 0-1.04.2-1.43.59L10.3 9.45l-7.72 7.72c-.78.78-.78 2.05 0 2.83L4 21.41c.39.39.9.59 1.41.59.51 0 1.02-.2 1.41-.59l7.78-7.78 2.81-2.81c.8-.78.8-2.07 0-2.86zM5.41 20L4 18.59l7.72-7.72 1.47 1.35L5.41 20z\"/>\n",
              "  </svg>\n",
              "      </button>\n",
              "      \n",
              "  <style>\n",
              "    .colab-df-container {\n",
              "      display:flex;\n",
              "      flex-wrap:wrap;\n",
              "      gap: 12px;\n",
              "    }\n",
              "\n",
              "    .colab-df-convert {\n",
              "      background-color: #E8F0FE;\n",
              "      border: none;\n",
              "      border-radius: 50%;\n",
              "      cursor: pointer;\n",
              "      display: none;\n",
              "      fill: #1967D2;\n",
              "      height: 32px;\n",
              "      padding: 0 0 0 0;\n",
              "      width: 32px;\n",
              "    }\n",
              "\n",
              "    .colab-df-convert:hover {\n",
              "      background-color: #E2EBFA;\n",
              "      box-shadow: 0px 1px 2px rgba(60, 64, 67, 0.3), 0px 1px 3px 1px rgba(60, 64, 67, 0.15);\n",
              "      fill: #174EA6;\n",
              "    }\n",
              "\n",
              "    [theme=dark] .colab-df-convert {\n",
              "      background-color: #3B4455;\n",
              "      fill: #D2E3FC;\n",
              "    }\n",
              "\n",
              "    [theme=dark] .colab-df-convert:hover {\n",
              "      background-color: #434B5C;\n",
              "      box-shadow: 0px 1px 3px 1px rgba(0, 0, 0, 0.15);\n",
              "      filter: drop-shadow(0px 1px 2px rgba(0, 0, 0, 0.3));\n",
              "      fill: #FFFFFF;\n",
              "    }\n",
              "  </style>\n",
              "\n",
              "      <script>\n",
              "        const buttonEl =\n",
              "          document.querySelector('#df-962555dc-4f28-4345-b9d4-ae8ecd0a737d button.colab-df-convert');\n",
              "        buttonEl.style.display =\n",
              "          google.colab.kernel.accessAllowed ? 'block' : 'none';\n",
              "\n",
              "        async function convertToInteractive(key) {\n",
              "          const element = document.querySelector('#df-962555dc-4f28-4345-b9d4-ae8ecd0a737d');\n",
              "          const dataTable =\n",
              "            await google.colab.kernel.invokeFunction('convertToInteractive',\n",
              "                                                     [key], {});\n",
              "          if (!dataTable) return;\n",
              "\n",
              "          const docLinkHtml = 'Like what you see? Visit the ' +\n",
              "            '<a target=\"_blank\" href=https://colab.research.google.com/notebooks/data_table.ipynb>data table notebook</a>'\n",
              "            + ' to learn more about interactive tables.';\n",
              "          element.innerHTML = '';\n",
              "          dataTable['output_type'] = 'display_data';\n",
              "          await google.colab.output.renderOutput(dataTable, element);\n",
              "          const docLink = document.createElement('div');\n",
              "          docLink.innerHTML = docLinkHtml;\n",
              "          element.appendChild(docLink);\n",
              "        }\n",
              "      </script>\n",
              "    </div>\n",
              "  </div>\n",
              "  "
            ]
          },
          "metadata": {},
          "execution_count": 5
        }
      ]
    },
    {
      "cell_type": "code",
      "source": [
        "#correlation analysis\n",
        "correlations = df.corr()['Stay (in days)']\n",
        "correlations"
      ],
      "metadata": {
        "id": "qUdpN3GdpPoy",
        "outputId": "68a0c752-bbfd-4fd8-8db3-480a737be9f8",
        "colab": {
          "base_uri": "https://localhost:8080/"
        }
      },
      "execution_count": 7,
      "outputs": [
        {
          "output_type": "execute_result",
          "data": {
            "text/plain": [
              "Available Extra Rooms in Hospital       -0.019219\n",
              "staff_available                          0.007398\n",
              "patientid                                0.006169\n",
              "Visitors with Patient                    0.027302\n",
              "Admission_Deposit                        0.044203\n",
              "Stay (in days)                           1.000000\n",
              "Department_anesthesia                    0.596323\n",
              "Department_gynecology                   -0.701090\n",
              "Department_radiotherapy                  0.217235\n",
              "Department_surgery                       0.236350\n",
              "Ward_Facility_Code_B                    -0.240791\n",
              "Ward_Facility_Code_C                     0.171404\n",
              "Ward_Facility_Code_D                    -0.263913\n",
              "Ward_Facility_Code_E                     0.450167\n",
              "Ward_Facility_Code_F                    -0.268901\n",
              "doctor_name_Dr John                      0.336819\n",
              "doctor_name_Dr Mark                      0.510740\n",
              "doctor_name_Dr Nathan                   -0.193380\n",
              "doctor_name_Dr Olivia                   -0.234180\n",
              "doctor_name_Dr Sam                       0.171028\n",
              "doctor_name_Dr Sarah                    -0.234645\n",
              "doctor_name_Dr Simon                     0.137195\n",
              "doctor_name_Dr Sophia                   -0.198839\n",
              "Age_11-20                               -0.149511\n",
              "Age_21-30                               -0.144137\n",
              "Age_31-40                               -0.262521\n",
              "Age_41-50                               -0.184739\n",
              "Age_51-60                                0.406265\n",
              "Age_61-70                                0.441520\n",
              "Age_71-80                                0.348206\n",
              "Age_81-90                                0.226472\n",
              "Age_91-100                               0.102132\n",
              "gender_Male                              0.530151\n",
              "gender_Other                             0.239800\n",
              "Type of Admission_Trauma                 0.045752\n",
              "Type of Admission_Urgent                -0.000756\n",
              "Severity of Illness_Minor               -0.069934\n",
              "Severity of Illness_Moderate             0.048318\n",
              "health_conditions_Diabetes              -0.001049\n",
              "health_conditions_Heart disease         -0.002358\n",
              "health_conditions_High Blood Pressure    0.001776\n",
              "health_conditions_None                  -0.000493\n",
              "health_conditions_Other                  0.001476\n",
              "Insurance_Yes                           -0.000236\n",
              "Name: Stay (in days), dtype: float64"
            ]
          },
          "metadata": {},
          "execution_count": 7
        }
      ]
    },
    {
      "cell_type": "code",
      "source": [
        "#dropping less correlated features\n",
        "df = df.drop(['patientid'],axis = 1)"
      ],
      "metadata": {
        "id": "1f5SZS6ed1pY"
      },
      "execution_count": 15,
      "outputs": []
    },
    {
      "cell_type": "code",
      "source": [
        "#seperating the feature variables and target variables\n",
        "X = df.drop('Stay (in days)',axis = 1)\n",
        "\n",
        "y = df['Stay (in days)'] "
      ],
      "metadata": {
        "id": "c_33J_yzeDqD"
      },
      "execution_count": 21,
      "outputs": []
    },
    {
      "cell_type": "code",
      "source": [
        "#splitting the training and test sets\n",
        "X_train, X_test, y_train, y_test = train_test_split(X, y, test_size = 0.2, shuffle = True, random_state = 1)\n",
        "\n",
        "#checking the shape of the train and test set\n",
        "print('Train Shape:',X_train.shape)\n",
        "print('Test Shape:',X_test.shape)"
      ],
      "metadata": {
        "colab": {
          "base_uri": "https://localhost:8080/"
        },
        "id": "Il0Ptg7rekjs",
        "outputId": "253fbb59-0ff8-4822-e181-5b41ab0dcadd"
      },
      "execution_count": 22,
      "outputs": [
        {
          "output_type": "stream",
          "name": "stdout",
          "text": [
            "Train Shape: (400000, 42)\n",
            "Test Shape: (100000, 42)\n"
          ]
        }
      ]
    },
    {
      "cell_type": "code",
      "source": [
        "df.info()"
      ],
      "metadata": {
        "id": "FGZwRfK2MrnI",
        "outputId": "8787a500-3734-467d-a604-d449acbe3c4b",
        "colab": {
          "base_uri": "https://localhost:8080/"
        }
      },
      "execution_count": 40,
      "outputs": [
        {
          "output_type": "stream",
          "name": "stdout",
          "text": [
            "<class 'pandas.core.frame.DataFrame'>\n",
            "RangeIndex: 500000 entries, 0 to 499999\n",
            "Data columns (total 43 columns):\n",
            " #   Column                                 Non-Null Count   Dtype  \n",
            "---  ------                                 --------------   -----  \n",
            " 0   Available Extra Rooms in Hospital      500000 non-null  int64  \n",
            " 1   staff_available                        500000 non-null  int64  \n",
            " 2   Visitors with Patient                  500000 non-null  int64  \n",
            " 3   Admission_Deposit                      500000 non-null  float64\n",
            " 4   Stay (in days)                         500000 non-null  int64  \n",
            " 5   Department_anesthesia                  500000 non-null  uint8  \n",
            " 6   Department_gynecology                  500000 non-null  uint8  \n",
            " 7   Department_radiotherapy                500000 non-null  uint8  \n",
            " 8   Department_surgery                     500000 non-null  uint8  \n",
            " 9   Ward_Facility_Code_B                   500000 non-null  uint8  \n",
            " 10  Ward_Facility_Code_C                   500000 non-null  uint8  \n",
            " 11  Ward_Facility_Code_D                   500000 non-null  uint8  \n",
            " 12  Ward_Facility_Code_E                   500000 non-null  uint8  \n",
            " 13  Ward_Facility_Code_F                   500000 non-null  uint8  \n",
            " 14  doctor_name_Dr John                    500000 non-null  uint8  \n",
            " 15  doctor_name_Dr Mark                    500000 non-null  uint8  \n",
            " 16  doctor_name_Dr Nathan                  500000 non-null  uint8  \n",
            " 17  doctor_name_Dr Olivia                  500000 non-null  uint8  \n",
            " 18  doctor_name_Dr Sam                     500000 non-null  uint8  \n",
            " 19  doctor_name_Dr Sarah                   500000 non-null  uint8  \n",
            " 20  doctor_name_Dr Simon                   500000 non-null  uint8  \n",
            " 21  doctor_name_Dr Sophia                  500000 non-null  uint8  \n",
            " 22  Age_11-20                              500000 non-null  uint8  \n",
            " 23  Age_21-30                              500000 non-null  uint8  \n",
            " 24  Age_31-40                              500000 non-null  uint8  \n",
            " 25  Age_41-50                              500000 non-null  uint8  \n",
            " 26  Age_51-60                              500000 non-null  uint8  \n",
            " 27  Age_61-70                              500000 non-null  uint8  \n",
            " 28  Age_71-80                              500000 non-null  uint8  \n",
            " 29  Age_81-90                              500000 non-null  uint8  \n",
            " 30  Age_91-100                             500000 non-null  uint8  \n",
            " 31  gender_Male                            500000 non-null  uint8  \n",
            " 32  gender_Other                           500000 non-null  uint8  \n",
            " 33  Type of Admission_Trauma               500000 non-null  uint8  \n",
            " 34  Type of Admission_Urgent               500000 non-null  uint8  \n",
            " 35  Severity of Illness_Minor              500000 non-null  uint8  \n",
            " 36  Severity of Illness_Moderate           500000 non-null  uint8  \n",
            " 37  health_conditions_Diabetes             500000 non-null  uint8  \n",
            " 38  health_conditions_Heart disease        500000 non-null  uint8  \n",
            " 39  health_conditions_High Blood Pressure  500000 non-null  uint8  \n",
            " 40  health_conditions_None                 500000 non-null  uint8  \n",
            " 41  health_conditions_Other                500000 non-null  uint8  \n",
            " 42  Insurance_Yes                          500000 non-null  uint8  \n",
            "dtypes: float64(1), int64(4), uint8(38)\n",
            "memory usage: 37.2 MB\n"
          ]
        }
      ]
    },
    {
      "cell_type": "markdown",
      "source": [
        "# Model Building"
      ],
      "metadata": {
        "id": "vVKbKBBOfNOR"
      }
    },
    {
      "cell_type": "code",
      "source": [
        "# Dropping the specified features\n",
        "x_train2 = x_train1.drop(columns = {'staff_available', 'Visitors with Patient', 'Ward_Facility_Code_F', 'Age_81-90', 'gender_Other', 'health_conditions_High Blood Pressure', 'health_conditions_None', 'health_conditions_Other', 'Insurance_Yes'})\n",
        "\n",
        "x_test2 = x_test1.drop(columns = {'staff_available', 'Visitors with Patient', 'Ward_Facility_Code_F', 'Age_81-90', 'gender_Other', 'health_conditions_High Blood Pressure', 'health_conditions_None', 'health_conditions_Other', 'Insurance_Yes'})\n",
        "\n"
      ],
      "metadata": {
        "id": "frpLg02NhwIy"
      },
      "execution_count": null,
      "outputs": []
    },
    {
      "cell_type": "code",
      "source": [
        "from sklearn.model_selection import cross_val_score\n",
        "\n",
        "# Build the regression model using sklearn linear regression\n",
        "linreg = LinearRegression()                                    \n",
        "linreg.fit(X_train, y_train)\n",
        "y_pred = linreg.predict(X_test)\n",
        "\n",
        "mse = mean_squared_error(y_test, y_pred)\n",
        "mae = mean_absolute_error(y_test, y_pred)\n",
        "r2 = r2_score(y_test, y_pred)\n",
        "\n",
        "print(\"Mean Squared Error (MSE):\", mse)\n",
        "print(\"Mean Absolute Error (MAE):\", mae)\n",
        "print(\"R-squared (R2) Score:\", r2)"
      ],
      "metadata": {
        "colab": {
          "base_uri": "https://localhost:8080/"
        },
        "id": "w7HZ9WVejQSf",
        "outputId": "1fa60931-6594-4e0b-b807-216046b849d4"
      },
      "execution_count": 23,
      "outputs": [
        {
          "output_type": "stream",
          "name": "stdout",
          "text": [
            "Mean Squared Error (MSE): 9.884965445902619\n",
            "Mean Absolute Error (MAE): 2.155759034562716\n",
            "R-squared (R2) Score: 0.8430298956456241\n"
          ]
        }
      ]
    },
    {
      "cell_type": "markdown",
      "source": [
        "# Random Forest Regressor"
      ],
      "metadata": {
        "id": "nnJMAMjhnxgA"
      }
    },
    {
      "cell_type": "code",
      "source": [
        "# Random Forest Regressor\n",
        "regressor = RandomForestRegressor(n_estimators = 100, random_state = 1)\n",
        "\n",
        "# Fitting the model\n",
        "regressor.fit(X_train, y_train)\n",
        "\n",
        "y_pred = regressor.predict(X_test)\n",
        "\n",
        "mse = mean_squared_error(y_test, y_pred)\n",
        "mae = mean_absolute_error(y_test, y_pred)\n",
        "r2 = r2_score(y_test, y_pred)\n",
        "\n",
        "print(\"Mean Squared Error (MSE):\", mse)\n",
        "print(\"Mean Absolute Error (MAE):\", mae)\n",
        "print(\"R-squared (R2) Score:\", r2)"
      ],
      "metadata": {
        "colab": {
          "base_uri": "https://localhost:8080/"
        },
        "id": "osyEp49Bm3Q6",
        "outputId": "7863bde3-8889-4bab-9eac-506fbee9f0a3"
      },
      "execution_count": 25,
      "outputs": [
        {
          "output_type": "stream",
          "name": "stdout",
          "text": [
            "Mean Squared Error (MSE): 1.6995923960000001\n",
            "Mean Absolute Error (MAE): 0.8650502000000002\n",
            "R-squared (R2) Score: 0.9730110138249792\n"
          ]
        }
      ]
    },
    {
      "cell_type": "code",
      "source": [
        "#fitting the gradient boost regressor \n",
        "from sklearn.ensemble import GradientBoostingRegressor\n",
        "\n",
        "GBreg = GradientBoostingRegressor(n_estimators = 100, random_state = 1, learning_rate=0.1, max_depth=3)\n",
        "\n",
        "GBreg.fit(X_train, y_train)\n",
        "\n",
        "y_pred = GBreg.predict(X_test)\n",
        "\n",
        "mse = mean_squared_error(y_test, y_pred)\n",
        "mae = mean_absolute_error(y_test, y_pred)\n",
        "r2 = r2_score(y_test, y_pred)\n",
        "\n",
        "print(\"Mean Squared Error (MSE):\", mse)\n",
        "print(\"Mean Absolute Error (MAE):\", mae)\n",
        "print(\"R-squared (R2) Score:\", r2)\n"
      ],
      "metadata": {
        "colab": {
          "base_uri": "https://localhost:8080/"
        },
        "id": "w8RpdHiZpdsA",
        "outputId": "b872691e-2416-46d3-f2f0-b811c7ec7bae"
      },
      "execution_count": 26,
      "outputs": [
        {
          "output_type": "stream",
          "name": "stdout",
          "text": [
            "Mean Squared Error (MSE): 3.213847966912557\n",
            "Mean Absolute Error (MAE): 1.2127491554423462\n",
            "R-squared (R2) Score: 0.9489651174294724\n"
          ]
        }
      ]
    },
    {
      "cell_type": "code",
      "source": [
        "#fitting XGBoost\n",
        "import xgboost as xgb\n",
        "\n",
        "xgb_model = xgb.XGBRegressor(objective='reg:squarederror', n_estimators=100, learning_rate=0.1, max_depth=3, random_state=1)\n",
        "#fitting the model\n",
        "xgb_model.fit(X_train, y_train)\n",
        "\n",
        "y_pred = xgb_model.predict(X_test)\n",
        "\n",
        "mse = mean_squared_error(y_test, y_pred)\n",
        "mae = mean_absolute_error(y_test, y_pred)\n",
        "r2 = r2_score(y_test, y_pred)\n",
        "\n",
        "print(\"Mean Squared Error (MSE):\", mse)\n",
        "print(\"Mean Absolute Error (MAE):\", mae)\n",
        "print(\"R-squared (R2) Score:\", r2)\n"
      ],
      "metadata": {
        "colab": {
          "base_uri": "https://localhost:8080/"
        },
        "id": "C3QngcOwqIYO",
        "outputId": "7efa5a9c-c011-4ea7-c2cd-876e9353fec8"
      },
      "execution_count": 28,
      "outputs": [
        {
          "output_type": "stream",
          "name": "stdout",
          "text": [
            "Mean Squared Error (MSE): 3.2179812213485643\n",
            "Mean Absolute Error (MAE): 1.2135936201810837\n",
            "R-squared (R2) Score: 0.9488994826648702\n"
          ]
        }
      ]
    },
    {
      "cell_type": "code",
      "source": [
        "#fitting lightGBM\n",
        "import lightgbm as lgb\n",
        "\n",
        "# Define the dataset format for LightGBM\n",
        "train_data = lgb.Dataset(X_train, label=y_train)\n",
        "\n",
        "# Set the hyperparameters for the model\n",
        "params = {\n",
        "    'objective': 'regression',\n",
        "    'boosting_type': 'gbdt',\n",
        "    'metric': 'mae',\n",
        "    'num_leaves': 31,\n",
        "    'learning_rate': 0.1,\n",
        "    'feature_fraction': 0.9,\n",
        "    'bagging_fraction': 0.8,\n",
        "    'bagging_freq': 5,\n",
        "    'random_state': 1\n",
        "}\n",
        "#training the model\n",
        "lgb_model = lgb.train(params, train_data, num_boost_round=100)\n",
        "\n",
        "\n",
        "y_pred = lgb_model.predict(X_test)\n",
        "\n",
        "mse = mean_squared_error(y_test, y_pred)\n",
        "mae = mean_absolute_error(y_test, y_pred)\n",
        "r2 = r2_score(y_test, y_pred)\n",
        "\n",
        "print(\"Mean Squared Error (MSE):\", mse)\n",
        "print(\"Mean Absolute Error (MAE):\", mae)\n",
        "print(\"R-squared (R2) Score:\", r2)\n"
      ],
      "metadata": {
        "colab": {
          "base_uri": "https://localhost:8080/"
        },
        "id": "nbVytXhir-N9",
        "outputId": "815b930e-ea48-4dac-ca87-b3e30b250ca5"
      },
      "execution_count": 29,
      "outputs": [
        {
          "output_type": "stream",
          "name": "stdout",
          "text": [
            "[LightGBM] [Warning] Found whitespace in feature_names, replace with underlines\n",
            "[LightGBM] [Warning] Auto-choosing row-wise multi-threading, the overhead of testing was 0.026965 seconds.\n",
            "You can set `force_row_wise=true` to remove the overhead.\n",
            "And if memory is not enough, you can set `force_col_wise=true`.\n",
            "[LightGBM] [Info] Total Bins 388\n",
            "[LightGBM] [Info] Number of data points in the train set: 400000, number of used features: 42\n",
            "[LightGBM] [Info] Start training from score 12.375650\n",
            "Mean Squared Error (MSE): 2.505736080127015\n",
            "Mean Absolute Error (MAE): 1.0928246579135998\n",
            "R-squared (R2) Score: 0.9602097087607829\n"
          ]
        }
      ]
    },
    {
      "cell_type": "code",
      "source": [
        "#hyperparameter tuning using grid search\n",
        "rf_tuned = RandomForestRegressor(n_estimators = 100,random_state = 1)\n",
        "\n",
        "# Define the hyperparameters to be tuned\n",
        "param_grid = {\n",
        "    \n",
        "    \"max_depth\": [5, 7],\n",
        "    \"max_features\": [0.8, 1]\n",
        "}\n",
        "\n",
        "\n",
        "# Type of scoring used to compare parameter combinations\n",
        "scorer = make_scorer(r2_score)\n",
        "\n",
        "# Run the grid search\n",
        "grid_obj = GridSearchCV(rf_tuned, param_grid, cv = 5)\n",
        "\n",
        "grid_obj = grid_obj.fit(X_train, y_train)\n",
        "\n",
        "# Set the rf_tuned_regressor to the best combination of parameters\n",
        "rf_tuned_regressor = grid_obj.best_estimator_\n",
        "\n",
        "rf_tuned_regressor.fit(X_train, y_train)\n",
        "\n",
        "y_pred = rf_tuned_regressor.predict(X_test)\n",
        "\n",
        "mse = mean_squared_error(y_test, y_pred)\n",
        "mae = mean_absolute_error(y_test, y_pred)\n",
        "r2 = r2_score(y_test, y_pred)\n",
        "\n",
        "print(\"Mean Squared Error (MSE):\", mse)\n",
        "print(\"Mean Absolute Error (MAE):\", mae)\n",
        "print(\"R-squared (R2) Score:\", r2)"
      ],
      "metadata": {
        "id": "VBT2w35Zv1qW",
        "colab": {
          "base_uri": "https://localhost:8080/"
        },
        "outputId": "11c9b5db-b63d-4e29-d6b5-6500d63e0c4d"
      },
      "execution_count": 36,
      "outputs": [
        {
          "output_type": "stream",
          "name": "stdout",
          "text": [
            "Mean Squared Error (MSE): 2.9687492649150133\n",
            "Mean Absolute Error (MAE): 1.1564083439719384\n",
            "R-squared (R2) Score: 0.9528572067888362\n"
          ]
        }
      ]
    },
    {
      "cell_type": "markdown",
      "source": [
        "# Neural Network"
      ],
      "metadata": {
        "id": "Sa_hZ3toIn3-"
      }
    },
    {
      "cell_type": "code",
      "source": [
        "from keras.callbacks import ModelCheckpoint\n",
        "from keras.models import Sequential\n",
        "from keras.layers import Dense, Activation, Flatten\n",
        "\n",
        "#define the model\n",
        "NN_model = Sequential()\n",
        "\n",
        "# The Input Layer :\n",
        "NN_model.add(Dense(128, kernel_initializer='normal',input_dim = X_train.shape[1], activation='relu'))\n",
        "\n",
        "# The Hidden Layers :\n",
        "NN_model.add(Dense(256, kernel_initializer='normal',activation='relu'))\n",
        "NN_model.add(Dense(256, kernel_initializer='normal',activation='relu'))\n",
        "NN_model.add(Dense(256, kernel_initializer='normal',activation='relu'))\n",
        "\n",
        "# The Output Layer :\n",
        "NN_model.add(Dense(1, kernel_initializer='normal',activation='linear'))\n",
        "\n",
        "# Compile the network :\n",
        "NN_model.compile(loss='mean_absolute_error', optimizer='adam', metrics=['mean_absolute_error'])\n",
        "NN_model.summary()"
      ],
      "metadata": {
        "colab": {
          "base_uri": "https://localhost:8080/"
        },
        "id": "M6ecTQQpHHoQ",
        "outputId": "aea8481a-ed82-4d96-aca7-0cdf19cf357e"
      },
      "execution_count": 31,
      "outputs": [
        {
          "output_type": "stream",
          "name": "stdout",
          "text": [
            "Model: \"sequential\"\n",
            "_________________________________________________________________\n",
            " Layer (type)                Output Shape              Param #   \n",
            "=================================================================\n",
            " dense (Dense)               (None, 128)               5504      \n",
            "                                                                 \n",
            " dense_1 (Dense)             (None, 256)               33024     \n",
            "                                                                 \n",
            " dense_2 (Dense)             (None, 256)               65792     \n",
            "                                                                 \n",
            " dense_3 (Dense)             (None, 256)               65792     \n",
            "                                                                 \n",
            " dense_4 (Dense)             (None, 1)                 257       \n",
            "                                                                 \n",
            "=================================================================\n",
            "Total params: 170,369\n",
            "Trainable params: 170,369\n",
            "Non-trainable params: 0\n",
            "_________________________________________________________________\n"
          ]
        }
      ]
    },
    {
      "cell_type": "code",
      "source": [
        "checkpoint_name = 'NN_model.hdf5'\n",
        "checkpoint = ModelCheckpoint(checkpoint_name, monitor='val_loss', verbose = 1, save_best_only = True, mode ='auto')\n",
        "callbacks_list = [checkpoint]"
      ],
      "metadata": {
        "id": "Qtj-kSBXHnkK"
      },
      "execution_count": 32,
      "outputs": []
    },
    {
      "cell_type": "code",
      "source": [
        "NN_model.fit(X_train, y_train, epochs=30, batch_size=32, validation_split = 0.2, callbacks=callbacks_list)"
      ],
      "metadata": {
        "colab": {
          "base_uri": "https://localhost:8080/"
        },
        "id": "ieUEuHI3ILac",
        "outputId": "49323cb2-8d3e-4e0d-a159-ffe427aa5c19"
      },
      "execution_count": 33,
      "outputs": [
        {
          "output_type": "stream",
          "name": "stdout",
          "text": [
            "Epoch 1/30\n",
            " 9989/10000 [============================>.] - ETA: 0s - loss: 2.5214 - mean_absolute_error: 2.5214\n",
            "Epoch 1: val_loss improved from inf to 1.50389, saving model to NN_model.hdf5\n",
            "10000/10000 [==============================] - 54s 5ms/step - loss: 2.5205 - mean_absolute_error: 2.5205 - val_loss: 1.5039 - val_mean_absolute_error: 1.5039\n",
            "Epoch 2/30\n",
            " 9992/10000 [============================>.] - ETA: 0s - loss: 1.6511 - mean_absolute_error: 1.6511\n",
            "Epoch 2: val_loss did not improve from 1.50389\n",
            "10000/10000 [==============================] - 56s 6ms/step - loss: 1.6510 - mean_absolute_error: 1.6510 - val_loss: 1.5102 - val_mean_absolute_error: 1.5102\n",
            "Epoch 3/30\n",
            " 9999/10000 [============================>.] - ETA: 0s - loss: 1.5911 - mean_absolute_error: 1.5911\n",
            "Epoch 3: val_loss improved from 1.50389 to 1.45216, saving model to NN_model.hdf5\n",
            "10000/10000 [==============================] - 51s 5ms/step - loss: 1.5911 - mean_absolute_error: 1.5911 - val_loss: 1.4522 - val_mean_absolute_error: 1.4522\n",
            "Epoch 4/30\n",
            " 9994/10000 [============================>.] - ETA: 0s - loss: 1.5717 - mean_absolute_error: 1.5717\n",
            "Epoch 4: val_loss did not improve from 1.45216\n",
            "10000/10000 [==============================] - 50s 5ms/step - loss: 1.5716 - mean_absolute_error: 1.5716 - val_loss: 1.6392 - val_mean_absolute_error: 1.6392\n",
            "Epoch 5/30\n",
            " 9991/10000 [============================>.] - ETA: 0s - loss: 1.5540 - mean_absolute_error: 1.5540\n",
            "Epoch 5: val_loss did not improve from 1.45216\n",
            "10000/10000 [==============================] - 51s 5ms/step - loss: 1.5543 - mean_absolute_error: 1.5543 - val_loss: 1.7839 - val_mean_absolute_error: 1.7839\n",
            "Epoch 6/30\n",
            " 9998/10000 [============================>.] - ETA: 0s - loss: 1.5401 - mean_absolute_error: 1.5401\n",
            "Epoch 6: val_loss did not improve from 1.45216\n",
            "10000/10000 [==============================] - 50s 5ms/step - loss: 1.5402 - mean_absolute_error: 1.5402 - val_loss: 1.6968 - val_mean_absolute_error: 1.6968\n",
            "Epoch 7/30\n",
            " 9998/10000 [============================>.] - ETA: 0s - loss: 1.5299 - mean_absolute_error: 1.5299\n",
            "Epoch 7: val_loss improved from 1.45216 to 1.43749, saving model to NN_model.hdf5\n",
            "10000/10000 [==============================] - 55s 5ms/step - loss: 1.5300 - mean_absolute_error: 1.5300 - val_loss: 1.4375 - val_mean_absolute_error: 1.4375\n",
            "Epoch 8/30\n",
            " 9995/10000 [============================>.] - ETA: 0s - loss: 1.5496 - mean_absolute_error: 1.5496\n",
            "Epoch 8: val_loss improved from 1.43749 to 1.42328, saving model to NN_model.hdf5\n",
            "10000/10000 [==============================] - 51s 5ms/step - loss: 1.5496 - mean_absolute_error: 1.5496 - val_loss: 1.4233 - val_mean_absolute_error: 1.4233\n",
            "Epoch 9/30\n",
            " 9997/10000 [============================>.] - ETA: 0s - loss: 1.5303 - mean_absolute_error: 1.5303\n",
            "Epoch 9: val_loss did not improve from 1.42328\n",
            "10000/10000 [==============================] - 50s 5ms/step - loss: 1.5303 - mean_absolute_error: 1.5303 - val_loss: 1.4821 - val_mean_absolute_error: 1.4821\n",
            "Epoch 10/30\n",
            " 9992/10000 [============================>.] - ETA: 0s - loss: 1.5120 - mean_absolute_error: 1.5120\n",
            "Epoch 10: val_loss did not improve from 1.42328\n",
            "10000/10000 [==============================] - 51s 5ms/step - loss: 1.5119 - mean_absolute_error: 1.5119 - val_loss: 1.4363 - val_mean_absolute_error: 1.4363\n",
            "Epoch 11/30\n",
            " 9996/10000 [============================>.] - ETA: 0s - loss: 1.5104 - mean_absolute_error: 1.5104\n",
            "Epoch 11: val_loss did not improve from 1.42328\n",
            "10000/10000 [==============================] - 49s 5ms/step - loss: 1.5104 - mean_absolute_error: 1.5104 - val_loss: 1.4531 - val_mean_absolute_error: 1.4531\n",
            "Epoch 12/30\n",
            " 9993/10000 [============================>.] - ETA: 0s - loss: 1.5054 - mean_absolute_error: 1.5054\n",
            "Epoch 12: val_loss did not improve from 1.42328\n",
            "10000/10000 [==============================] - 51s 5ms/step - loss: 1.5053 - mean_absolute_error: 1.5053 - val_loss: 1.4471 - val_mean_absolute_error: 1.4471\n",
            "Epoch 13/30\n",
            " 9996/10000 [============================>.] - ETA: 0s - loss: 1.5037 - mean_absolute_error: 1.5037\n",
            "Epoch 13: val_loss did not improve from 1.42328\n",
            "10000/10000 [==============================] - 51s 5ms/step - loss: 1.5038 - mean_absolute_error: 1.5038 - val_loss: 1.4745 - val_mean_absolute_error: 1.4745\n",
            "Epoch 14/30\n",
            " 9994/10000 [============================>.] - ETA: 0s - loss: 1.4898 - mean_absolute_error: 1.4898\n",
            "Epoch 14: val_loss did not improve from 1.42328\n",
            "10000/10000 [==============================] - 50s 5ms/step - loss: 1.4897 - mean_absolute_error: 1.4897 - val_loss: 1.4392 - val_mean_absolute_error: 1.4392\n",
            "Epoch 15/30\n",
            "10000/10000 [==============================] - ETA: 0s - loss: 1.4940 - mean_absolute_error: 1.4940\n",
            "Epoch 15: val_loss did not improve from 1.42328\n",
            "10000/10000 [==============================] - 51s 5ms/step - loss: 1.4940 - mean_absolute_error: 1.4940 - val_loss: 1.4900 - val_mean_absolute_error: 1.4900\n",
            "Epoch 16/30\n",
            " 9995/10000 [============================>.] - ETA: 0s - loss: 1.4829 - mean_absolute_error: 1.4829\n",
            "Epoch 16: val_loss did not improve from 1.42328\n",
            "10000/10000 [==============================] - 50s 5ms/step - loss: 1.4829 - mean_absolute_error: 1.4829 - val_loss: 1.4257 - val_mean_absolute_error: 1.4257\n",
            "Epoch 17/30\n",
            " 9992/10000 [============================>.] - ETA: 0s - loss: 1.4813 - mean_absolute_error: 1.4813\n",
            "Epoch 17: val_loss did not improve from 1.42328\n",
            "10000/10000 [==============================] - 50s 5ms/step - loss: 1.4813 - mean_absolute_error: 1.4813 - val_loss: 1.4908 - val_mean_absolute_error: 1.4908\n",
            "Epoch 18/30\n",
            " 9999/10000 [============================>.] - ETA: 0s - loss: 1.4777 - mean_absolute_error: 1.4777\n",
            "Epoch 18: val_loss did not improve from 1.42328\n",
            "10000/10000 [==============================] - 50s 5ms/step - loss: 1.4777 - mean_absolute_error: 1.4777 - val_loss: 1.4364 - val_mean_absolute_error: 1.4364\n",
            "Epoch 19/30\n",
            "10000/10000 [==============================] - ETA: 0s - loss: 1.4714 - mean_absolute_error: 1.4714\n",
            "Epoch 19: val_loss did not improve from 1.42328\n",
            "10000/10000 [==============================] - 50s 5ms/step - loss: 1.4714 - mean_absolute_error: 1.4714 - val_loss: 1.4296 - val_mean_absolute_error: 1.4296\n",
            "Epoch 20/30\n",
            "10000/10000 [==============================] - ETA: 0s - loss: 1.4686 - mean_absolute_error: 1.4686\n",
            "Epoch 20: val_loss improved from 1.42328 to 1.40757, saving model to NN_model.hdf5\n",
            "10000/10000 [==============================] - 51s 5ms/step - loss: 1.4686 - mean_absolute_error: 1.4686 - val_loss: 1.4076 - val_mean_absolute_error: 1.4076\n",
            "Epoch 21/30\n",
            " 9995/10000 [============================>.] - ETA: 0s - loss: 1.4704 - mean_absolute_error: 1.4704\n",
            "Epoch 21: val_loss did not improve from 1.40757\n",
            "10000/10000 [==============================] - 60s 6ms/step - loss: 1.4704 - mean_absolute_error: 1.4704 - val_loss: 1.4435 - val_mean_absolute_error: 1.4435\n",
            "Epoch 22/30\n",
            " 9992/10000 [============================>.] - ETA: 0s - loss: 1.4627 - mean_absolute_error: 1.4627\n",
            "Epoch 22: val_loss did not improve from 1.40757\n",
            "10000/10000 [==============================] - 50s 5ms/step - loss: 1.4629 - mean_absolute_error: 1.4629 - val_loss: 1.6550 - val_mean_absolute_error: 1.6550\n",
            "Epoch 23/30\n",
            "10000/10000 [==============================] - ETA: 0s - loss: 1.4601 - mean_absolute_error: 1.4601\n",
            "Epoch 23: val_loss did not improve from 1.40757\n",
            "10000/10000 [==============================] - 48s 5ms/step - loss: 1.4601 - mean_absolute_error: 1.4601 - val_loss: 1.7163 - val_mean_absolute_error: 1.7163\n",
            "Epoch 24/30\n",
            " 9996/10000 [============================>.] - ETA: 0s - loss: 1.4587 - mean_absolute_error: 1.4587\n",
            "Epoch 24: val_loss did not improve from 1.40757\n",
            "10000/10000 [==============================] - 50s 5ms/step - loss: 1.4587 - mean_absolute_error: 1.4587 - val_loss: 1.5641 - val_mean_absolute_error: 1.5641\n",
            "Epoch 25/30\n",
            "10000/10000 [==============================] - ETA: 0s - loss: 1.4570 - mean_absolute_error: 1.4570\n",
            "Epoch 25: val_loss did not improve from 1.40757\n",
            "10000/10000 [==============================] - 51s 5ms/step - loss: 1.4570 - mean_absolute_error: 1.4570 - val_loss: 1.9559 - val_mean_absolute_error: 1.9559\n",
            "Epoch 26/30\n",
            " 9993/10000 [============================>.] - ETA: 0s - loss: 1.4622 - mean_absolute_error: 1.4622\n",
            "Epoch 26: val_loss did not improve from 1.40757\n",
            "10000/10000 [==============================] - 50s 5ms/step - loss: 1.4625 - mean_absolute_error: 1.4625 - val_loss: 1.4308 - val_mean_absolute_error: 1.4308\n",
            "Epoch 27/30\n",
            " 9998/10000 [============================>.] - ETA: 0s - loss: 1.4515 - mean_absolute_error: 1.4515\n",
            "Epoch 27: val_loss did not improve from 1.40757\n",
            "10000/10000 [==============================] - 49s 5ms/step - loss: 1.4515 - mean_absolute_error: 1.4515 - val_loss: 1.4173 - val_mean_absolute_error: 1.4173\n",
            "Epoch 28/30\n",
            " 9989/10000 [============================>.] - ETA: 0s - loss: 1.4620 - mean_absolute_error: 1.4620\n",
            "Epoch 28: val_loss did not improve from 1.40757\n",
            "10000/10000 [==============================] - 50s 5ms/step - loss: 1.4621 - mean_absolute_error: 1.4621 - val_loss: 1.6400 - val_mean_absolute_error: 1.6400\n",
            "Epoch 29/30\n",
            " 9996/10000 [============================>.] - ETA: 0s - loss: 1.4566 - mean_absolute_error: 1.4566\n",
            "Epoch 29: val_loss improved from 1.40757 to 1.40153, saving model to NN_model.hdf5\n",
            "10000/10000 [==============================] - 50s 5ms/step - loss: 1.4567 - mean_absolute_error: 1.4567 - val_loss: 1.4015 - val_mean_absolute_error: 1.4015\n",
            "Epoch 30/30\n",
            " 9997/10000 [============================>.] - ETA: 0s - loss: 1.4527 - mean_absolute_error: 1.4527\n",
            "Epoch 30: val_loss did not improve from 1.40153\n",
            "10000/10000 [==============================] - 52s 5ms/step - loss: 1.4527 - mean_absolute_error: 1.4527 - val_loss: 1.4071 - val_mean_absolute_error: 1.4071\n"
          ]
        },
        {
          "output_type": "execute_result",
          "data": {
            "text/plain": [
              "<keras.callbacks.History at 0x7f9ae9573970>"
            ]
          },
          "metadata": {},
          "execution_count": 33
        }
      ]
    },
    {
      "cell_type": "code",
      "source": [
        "\n",
        "y_pred = NN_model.predict(X_test)\n",
        "\n",
        "mse = mean_squared_error(y_test, y_pred)\n",
        "mae = mean_absolute_error(y_test, y_pred)\n",
        "r2 = r2_score(y_test, y_pred)\n",
        "\n",
        "print(\"Mean Squared Error (MSE):\", mse)\n",
        "print(\"Mean Absolute Error (MAE):\", mae)\n",
        "print(\"R-squared (R2) Score:\", r2)"
      ],
      "metadata": {
        "colab": {
          "base_uri": "https://localhost:8080/"
        },
        "id": "yeBVmZ52IXta",
        "outputId": "6ecf7f38-61e1-43bb-cf42-ca21b6420984"
      },
      "execution_count": 34,
      "outputs": [
        {
          "output_type": "stream",
          "name": "stdout",
          "text": [
            "3125/3125 [==============================] - 5s 2ms/step\n",
            "Mean Squared Error (MSE): 4.125034535961448\n",
            "Mean Absolute Error (MAE): 1.414161374759674\n",
            "R-squared (R2) Score: 0.9344957647936272\n"
          ]
        }
      ]
    },
    {
      "cell_type": "markdown",
      "source": [
        "The RandomForestRegressor still has the best performance. with the lowest NSE and highest Rsquared"
      ],
      "metadata": {
        "id": "1Sa-UFi7Ye60"
      }
    },
    {
      "cell_type": "code",
      "source": [
        "!pip install  -q fastapi nest-asyncio pyngrok uvicorn\n"
      ],
      "metadata": {
        "id": "uoCapTlisFKB"
      },
      "execution_count": 54,
      "outputs": []
    },
    {
      "cell_type": "code",
      "source": [
        "import joblib\n",
        "\n",
        "joblib.dump(regressor, 'LOSmodel.pkl')\n"
      ],
      "metadata": {
        "id": "kcEx5TNCKfUX",
        "outputId": "d29c7f6b-eda9-4aae-90b6-29c654277f1f",
        "colab": {
          "base_uri": "https://localhost:8080/"
        }
      },
      "execution_count": 44,
      "outputs": [
        {
          "output_type": "execute_result",
          "data": {
            "text/plain": [
              "['LOSmodel.pkl']"
            ]
          },
          "metadata": {},
          "execution_count": 44
        }
      ]
    },
    {
      "cell_type": "code",
      "source": [
        "from google.colab import files\n",
        "files.download('LOSmodel.pkl')"
      ],
      "metadata": {
        "id": "QMhu2HO3V8Ha",
        "outputId": "7d5c8cc3-52df-4bd7-fb57-896a04d5af40",
        "colab": {
          "base_uri": "https://localhost:8080/",
          "height": 17
        }
      },
      "execution_count": 62,
      "outputs": [
        {
          "output_type": "display_data",
          "data": {
            "text/plain": [
              "<IPython.core.display.Javascript object>"
            ],
            "application/javascript": [
              "\n",
              "    async function download(id, filename, size) {\n",
              "      if (!google.colab.kernel.accessAllowed) {\n",
              "        return;\n",
              "      }\n",
              "      const div = document.createElement('div');\n",
              "      const label = document.createElement('label');\n",
              "      label.textContent = `Downloading \"${filename}\": `;\n",
              "      div.appendChild(label);\n",
              "      const progress = document.createElement('progress');\n",
              "      progress.max = size;\n",
              "      div.appendChild(progress);\n",
              "      document.body.appendChild(div);\n",
              "\n",
              "      const buffers = [];\n",
              "      let downloaded = 0;\n",
              "\n",
              "      const channel = await google.colab.kernel.comms.open(id);\n",
              "      // Send a message to notify the kernel that we're ready.\n",
              "      channel.send({})\n",
              "\n",
              "      for await (const message of channel.messages) {\n",
              "        // Send a message to notify the kernel that we're ready.\n",
              "        channel.send({})\n",
              "        if (message.buffers) {\n",
              "          for (const buffer of message.buffers) {\n",
              "            buffers.push(buffer);\n",
              "            downloaded += buffer.byteLength;\n",
              "            progress.value = downloaded;\n",
              "          }\n",
              "        }\n",
              "      }\n",
              "      const blob = new Blob(buffers, {type: 'application/binary'});\n",
              "      const a = document.createElement('a');\n",
              "      a.href = window.URL.createObjectURL(blob);\n",
              "      a.download = filename;\n",
              "      div.appendChild(a);\n",
              "      a.click();\n",
              "      div.remove();\n",
              "    }\n",
              "  "
            ]
          },
          "metadata": {}
        },
        {
          "output_type": "display_data",
          "data": {
            "text/plain": [
              "<IPython.core.display.Javascript object>"
            ],
            "application/javascript": [
              "download(\"download_01d028f6-8eac-43a7-8d3c-9553a2dcd1fb\", \"LOSmodel.pkl\", 0)"
            ]
          },
          "metadata": {}
        }
      ]
    },
    {
      "cell_type": "code",
      "source": [
        "%%writefile app.py\n",
        "\n",
        "from fastapi import FastAPI\n",
        "from pydantic import BaseModel\n",
        "import joblib\n",
        "import pandas as pd\n",
        "\n",
        "class InputData(BaseModel):\n",
        "    Available_Extra_Rooms_in_Hospital: int\n",
        "    Department: str\n",
        "    Ward_Facility_Code: str\n",
        "    doctor_name: str\n",
        "    staff_available: int\n",
        "    #patientid: int\n",
        "    Age: str\n",
        "    gender: str\n",
        "    Type_of_Admission: str\n",
        "    Severity_of_Illness: str\n",
        "    health_conditions: str\n",
        "    Visitors_with_Patient: int\n",
        "    Insurance: str\n",
        "    Admission_Deposit: float\n",
        "\n",
        "app = FastAPI()\n",
        "\n",
        "model= joblib.load('/content/LOSmodel.pkl')\n",
        "\n",
        "def predict(input_data: InputData):\n",
        "    # Convert the input data to a dictionary\n",
        "    input_dict = input_data.dict()\n",
        "\n",
        "    # Create a DataFrame from the input dictionary\n",
        "    input_df = pd.DataFrame([input_dict])\n",
        "\n",
        "    # Perform one-hot encoding on the categorical features\n",
        "    categorical_features = ['Department', 'Ward_Facility_Code', 'doctor_name', 'Age', 'gender',\n",
        "                            'Type_of_Admission', 'Severity_of_Illness', 'health_conditions', 'Insurance']\n",
        "    encoded_features = pd.get_dummies(input_df[categorical_features], drop_first=True)\n",
        "\n",
        "    processed_features = pd.concat([encoded_features, input_df.drop(categorical_features, axis=1)], axis=1)\n",
        "\n",
        "    predictions = model.predict(processed_features)\n",
        "\n",
        "    return {\"predictions\": predictions.tolist()}"
      ],
      "metadata": {
        "id": "JrXQW3igMiJu",
        "outputId": "d66860fc-5507-40e2-b29a-99d00ebd3361",
        "colab": {
          "base_uri": "https://localhost:8080/"
        }
      },
      "execution_count": 55,
      "outputs": [
        {
          "output_type": "stream",
          "name": "stdout",
          "text": [
            "Overwriting app.py\n"
          ]
        }
      ]
    },
    {
      "cell_type": "code",
      "source": [],
      "metadata": {
        "id": "LI0USx6dSDWD"
      },
      "execution_count": null,
      "outputs": []
    },
    {
      "cell_type": "code",
      "source": [
        "#!uvicorn app:app --port 8000\n",
        "!uvicorn app:app --host 0.0.0.0 --port 80ccc"
      ],
      "metadata": {
        "id": "_XfNPddDN383",
        "outputId": "f0101c9d-b398-46dd-a021-b61624938bae",
        "colab": {
          "base_uri": "https://localhost:8080/",
          "height": 217
        }
      },
      "execution_count": 57,
      "outputs": [
        {
          "output_type": "stream",
          "name": "stdout",
          "text": [
            "Public URL: https://c89b-35-247-98-223.ngrok.io\n"
          ]
        },
        {
          "output_type": "error",
          "ename": "NameError",
          "evalue": "ignored",
          "traceback": [
            "\u001b[0;31m---------------------------------------------------------------------------\u001b[0m",
            "\u001b[0;31mNameError\u001b[0m                                 Traceback (most recent call last)",
            "\u001b[0;32m<ipython-input-57-e18b02be8d74>\u001b[0m in \u001b[0;36m<cell line: 8>\u001b[0;34m()\u001b[0m\n\u001b[1;32m      6\u001b[0m \u001b[0mprint\u001b[0m\u001b[0;34m(\u001b[0m\u001b[0;34m'Public URL:'\u001b[0m\u001b[0;34m,\u001b[0m \u001b[0mngrok_tunnel\u001b[0m\u001b[0;34m.\u001b[0m\u001b[0mpublic_url\u001b[0m\u001b[0;34m)\u001b[0m\u001b[0;34m\u001b[0m\u001b[0;34m\u001b[0m\u001b[0m\n\u001b[1;32m      7\u001b[0m \u001b[0mnest_asyncio\u001b[0m\u001b[0;34m.\u001b[0m\u001b[0mapply\u001b[0m\u001b[0;34m(\u001b[0m\u001b[0;34m)\u001b[0m\u001b[0;34m\u001b[0m\u001b[0;34m\u001b[0m\u001b[0m\n\u001b[0;32m----> 8\u001b[0;31m \u001b[0muvicorn\u001b[0m\u001b[0;34m.\u001b[0m\u001b[0mrun\u001b[0m\u001b[0;34m(\u001b[0m\u001b[0mapp\u001b[0m\u001b[0;34m.\u001b[0m\u001b[0mpy\u001b[0m\u001b[0;34m,\u001b[0m \u001b[0mport\u001b[0m\u001b[0;34m=\u001b[0m\u001b[0;36m8000\u001b[0m\u001b[0;34m)\u001b[0m\u001b[0;34m\u001b[0m\u001b[0;34m\u001b[0m\u001b[0m\n\u001b[0m",
            "\u001b[0;31mNameError\u001b[0m: name 'app' is not defined"
          ]
        }
      ]
    },
    {
      "cell_type": "code",
      "source": [
        "!pip install -q pyngrok\n"
      ],
      "metadata": {
        "id": "O_hZpeUhN8Xi",
        "outputId": "ead4a075-019d-4152-ed49-75498948994b",
        "colab": {
          "base_uri": "https://localhost:8080/"
        }
      },
      "execution_count": 50,
      "outputs": [
        {
          "output_type": "stream",
          "name": "stdout",
          "text": [
            "\u001b[?25l     \u001b[90m━━━━━━━━━━━━━━━━━━━━━━━━━━━━━━━━━━━━━━━━\u001b[0m \u001b[32m0.0/681.2 kB\u001b[0m \u001b[31m?\u001b[0m eta \u001b[36m-:--:--\u001b[0m\r\u001b[2K     \u001b[91m━━━━━━━━━━━━━━━━━━━━━━━━━━━━━━━━━━━━━\u001b[0m\u001b[91m╸\u001b[0m \u001b[32m675.8/681.2 kB\u001b[0m \u001b[31m22.7 MB/s\u001b[0m eta \u001b[36m0:00:01\u001b[0m\r\u001b[2K     \u001b[90m━━━━━━━━━━━━━━━━━━━━━━━━━━━━━━━━━━━━━━\u001b[0m \u001b[32m681.2/681.2 kB\u001b[0m \u001b[31m15.0 MB/s\u001b[0m eta \u001b[36m0:00:00\u001b[0m\n",
            "\u001b[?25h  Preparing metadata (setup.py) ... \u001b[?25l\u001b[?25hdone\n",
            "  Building wheel for pyngrok (setup.py) ... \u001b[?25l\u001b[?25hdone\n"
          ]
        }
      ]
    },
    {
      "cell_type": "code",
      "source": [
        "from pyngrok import ngrok\n",
        "\n",
        "public_url = ngrok.connect(port=8000)\n",
        "public_url\n"
      ],
      "metadata": {
        "id": "ais92wHvPoiP",
        "outputId": "a46ec5e4-9a0e-419f-a3be-c60bfda713eb",
        "colab": {
          "base_uri": "https://localhost:8080/",
          "height": 522
        }
      },
      "execution_count": 51,
      "outputs": [
        {
          "output_type": "stream",
          "name": "stdout",
          "text": []
        },
        {
          "output_type": "stream",
          "name": "stderr",
          "text": [
            "WARNING:pyngrok.process.ngrok:t=2023-06-11T16:18:21+0000 lvl=warn msg=\"ngrok config file found at legacy location, move to XDG location\" xdg_path=/root/.config/ngrok/ngrok.yml legacy_path=/root/.ngrok2/ngrok.yml\n",
            "WARNING:pyngrok.process.ngrok:t=2023-06-11T16:18:21+0000 lvl=warn msg=\"invalid tunnel configuration\" pg=/api/tunnels id=468f52e73a8e7987 err=\"yaml: unmarshal errors:\\n  line 1: field port not found in type config.HTTPv2Tunnel\"\n"
          ]
        },
        {
          "output_type": "error",
          "ename": "PyngrokNgrokHTTPError",
          "evalue": "ignored",
          "traceback": [
            "\u001b[0;31m---------------------------------------------------------------------------\u001b[0m",
            "\u001b[0;31mHTTPError\u001b[0m                                 Traceback (most recent call last)",
            "\u001b[0;32m/usr/local/lib/python3.10/dist-packages/pyngrok/ngrok.py\u001b[0m in \u001b[0;36mapi_request\u001b[0;34m(url, method, data, params, timeout)\u001b[0m\n\u001b[1;32m    465\u001b[0m     \u001b[0;32mtry\u001b[0m\u001b[0;34m:\u001b[0m\u001b[0;34m\u001b[0m\u001b[0;34m\u001b[0m\u001b[0m\n\u001b[0;32m--> 466\u001b[0;31m         \u001b[0mresponse\u001b[0m \u001b[0;34m=\u001b[0m \u001b[0murlopen\u001b[0m\u001b[0;34m(\u001b[0m\u001b[0mrequest\u001b[0m\u001b[0;34m,\u001b[0m \u001b[0mdata\u001b[0m\u001b[0;34m,\u001b[0m \u001b[0mtimeout\u001b[0m\u001b[0;34m)\u001b[0m\u001b[0;34m\u001b[0m\u001b[0;34m\u001b[0m\u001b[0m\n\u001b[0m\u001b[1;32m    467\u001b[0m         \u001b[0mresponse_data\u001b[0m \u001b[0;34m=\u001b[0m \u001b[0mresponse\u001b[0m\u001b[0;34m.\u001b[0m\u001b[0mread\u001b[0m\u001b[0;34m(\u001b[0m\u001b[0;34m)\u001b[0m\u001b[0;34m.\u001b[0m\u001b[0mdecode\u001b[0m\u001b[0;34m(\u001b[0m\u001b[0;34m\"utf-8\"\u001b[0m\u001b[0;34m)\u001b[0m\u001b[0;34m\u001b[0m\u001b[0;34m\u001b[0m\u001b[0m\n",
            "\u001b[0;32m/usr/lib/python3.10/urllib/request.py\u001b[0m in \u001b[0;36murlopen\u001b[0;34m(url, data, timeout, cafile, capath, cadefault, context)\u001b[0m\n\u001b[1;32m    215\u001b[0m         \u001b[0mopener\u001b[0m \u001b[0;34m=\u001b[0m \u001b[0m_opener\u001b[0m\u001b[0;34m\u001b[0m\u001b[0;34m\u001b[0m\u001b[0m\n\u001b[0;32m--> 216\u001b[0;31m     \u001b[0;32mreturn\u001b[0m \u001b[0mopener\u001b[0m\u001b[0;34m.\u001b[0m\u001b[0mopen\u001b[0m\u001b[0;34m(\u001b[0m\u001b[0murl\u001b[0m\u001b[0;34m,\u001b[0m \u001b[0mdata\u001b[0m\u001b[0;34m,\u001b[0m \u001b[0mtimeout\u001b[0m\u001b[0;34m)\u001b[0m\u001b[0;34m\u001b[0m\u001b[0;34m\u001b[0m\u001b[0m\n\u001b[0m\u001b[1;32m    217\u001b[0m \u001b[0;34m\u001b[0m\u001b[0m\n",
            "\u001b[0;32m/usr/lib/python3.10/urllib/request.py\u001b[0m in \u001b[0;36mopen\u001b[0;34m(self, fullurl, data, timeout)\u001b[0m\n\u001b[1;32m    524\u001b[0m             \u001b[0mmeth\u001b[0m \u001b[0;34m=\u001b[0m \u001b[0mgetattr\u001b[0m\u001b[0;34m(\u001b[0m\u001b[0mprocessor\u001b[0m\u001b[0;34m,\u001b[0m \u001b[0mmeth_name\u001b[0m\u001b[0;34m)\u001b[0m\u001b[0;34m\u001b[0m\u001b[0;34m\u001b[0m\u001b[0m\n\u001b[0;32m--> 525\u001b[0;31m             \u001b[0mresponse\u001b[0m \u001b[0;34m=\u001b[0m \u001b[0mmeth\u001b[0m\u001b[0;34m(\u001b[0m\u001b[0mreq\u001b[0m\u001b[0;34m,\u001b[0m \u001b[0mresponse\u001b[0m\u001b[0;34m)\u001b[0m\u001b[0;34m\u001b[0m\u001b[0;34m\u001b[0m\u001b[0m\n\u001b[0m\u001b[1;32m    526\u001b[0m \u001b[0;34m\u001b[0m\u001b[0m\n",
            "\u001b[0;32m/usr/lib/python3.10/urllib/request.py\u001b[0m in \u001b[0;36mhttp_response\u001b[0;34m(self, request, response)\u001b[0m\n\u001b[1;32m    633\u001b[0m         \u001b[0;32mif\u001b[0m \u001b[0;32mnot\u001b[0m \u001b[0;34m(\u001b[0m\u001b[0;36m200\u001b[0m \u001b[0;34m<=\u001b[0m \u001b[0mcode\u001b[0m \u001b[0;34m<\u001b[0m \u001b[0;36m300\u001b[0m\u001b[0;34m)\u001b[0m\u001b[0;34m:\u001b[0m\u001b[0;34m\u001b[0m\u001b[0;34m\u001b[0m\u001b[0m\n\u001b[0;32m--> 634\u001b[0;31m             response = self.parent.error(\n\u001b[0m\u001b[1;32m    635\u001b[0m                 'http', request, response, code, msg, hdrs)\n",
            "\u001b[0;32m/usr/lib/python3.10/urllib/request.py\u001b[0m in \u001b[0;36merror\u001b[0;34m(self, proto, *args)\u001b[0m\n\u001b[1;32m    562\u001b[0m             \u001b[0margs\u001b[0m \u001b[0;34m=\u001b[0m \u001b[0;34m(\u001b[0m\u001b[0mdict\u001b[0m\u001b[0;34m,\u001b[0m \u001b[0;34m'default'\u001b[0m\u001b[0;34m,\u001b[0m \u001b[0;34m'http_error_default'\u001b[0m\u001b[0;34m)\u001b[0m \u001b[0;34m+\u001b[0m \u001b[0morig_args\u001b[0m\u001b[0;34m\u001b[0m\u001b[0;34m\u001b[0m\u001b[0m\n\u001b[0;32m--> 563\u001b[0;31m             \u001b[0;32mreturn\u001b[0m \u001b[0mself\u001b[0m\u001b[0;34m.\u001b[0m\u001b[0m_call_chain\u001b[0m\u001b[0;34m(\u001b[0m\u001b[0;34m*\u001b[0m\u001b[0margs\u001b[0m\u001b[0;34m)\u001b[0m\u001b[0;34m\u001b[0m\u001b[0;34m\u001b[0m\u001b[0m\n\u001b[0m\u001b[1;32m    564\u001b[0m \u001b[0;34m\u001b[0m\u001b[0m\n",
            "\u001b[0;32m/usr/lib/python3.10/urllib/request.py\u001b[0m in \u001b[0;36m_call_chain\u001b[0;34m(self, chain, kind, meth_name, *args)\u001b[0m\n\u001b[1;32m    495\u001b[0m             \u001b[0mfunc\u001b[0m \u001b[0;34m=\u001b[0m \u001b[0mgetattr\u001b[0m\u001b[0;34m(\u001b[0m\u001b[0mhandler\u001b[0m\u001b[0;34m,\u001b[0m \u001b[0mmeth_name\u001b[0m\u001b[0;34m)\u001b[0m\u001b[0;34m\u001b[0m\u001b[0;34m\u001b[0m\u001b[0m\n\u001b[0;32m--> 496\u001b[0;31m             \u001b[0mresult\u001b[0m \u001b[0;34m=\u001b[0m \u001b[0mfunc\u001b[0m\u001b[0;34m(\u001b[0m\u001b[0;34m*\u001b[0m\u001b[0margs\u001b[0m\u001b[0;34m)\u001b[0m\u001b[0;34m\u001b[0m\u001b[0;34m\u001b[0m\u001b[0m\n\u001b[0m\u001b[1;32m    497\u001b[0m             \u001b[0;32mif\u001b[0m \u001b[0mresult\u001b[0m \u001b[0;32mis\u001b[0m \u001b[0;32mnot\u001b[0m \u001b[0;32mNone\u001b[0m\u001b[0;34m:\u001b[0m\u001b[0;34m\u001b[0m\u001b[0;34m\u001b[0m\u001b[0m\n",
            "\u001b[0;32m/usr/lib/python3.10/urllib/request.py\u001b[0m in \u001b[0;36mhttp_error_default\u001b[0;34m(self, req, fp, code, msg, hdrs)\u001b[0m\n\u001b[1;32m    642\u001b[0m     \u001b[0;32mdef\u001b[0m \u001b[0mhttp_error_default\u001b[0m\u001b[0;34m(\u001b[0m\u001b[0mself\u001b[0m\u001b[0;34m,\u001b[0m \u001b[0mreq\u001b[0m\u001b[0;34m,\u001b[0m \u001b[0mfp\u001b[0m\u001b[0;34m,\u001b[0m \u001b[0mcode\u001b[0m\u001b[0;34m,\u001b[0m \u001b[0mmsg\u001b[0m\u001b[0;34m,\u001b[0m \u001b[0mhdrs\u001b[0m\u001b[0;34m)\u001b[0m\u001b[0;34m:\u001b[0m\u001b[0;34m\u001b[0m\u001b[0;34m\u001b[0m\u001b[0m\n\u001b[0;32m--> 643\u001b[0;31m         \u001b[0;32mraise\u001b[0m \u001b[0mHTTPError\u001b[0m\u001b[0;34m(\u001b[0m\u001b[0mreq\u001b[0m\u001b[0;34m.\u001b[0m\u001b[0mfull_url\u001b[0m\u001b[0;34m,\u001b[0m \u001b[0mcode\u001b[0m\u001b[0;34m,\u001b[0m \u001b[0mmsg\u001b[0m\u001b[0;34m,\u001b[0m \u001b[0mhdrs\u001b[0m\u001b[0;34m,\u001b[0m \u001b[0mfp\u001b[0m\u001b[0;34m)\u001b[0m\u001b[0;34m\u001b[0m\u001b[0;34m\u001b[0m\u001b[0m\n\u001b[0m\u001b[1;32m    644\u001b[0m \u001b[0;34m\u001b[0m\u001b[0m\n",
            "\u001b[0;31mHTTPError\u001b[0m: HTTP Error 400: Bad Request",
            "\nDuring handling of the above exception, another exception occurred:\n",
            "\u001b[0;31mPyngrokNgrokHTTPError\u001b[0m                     Traceback (most recent call last)",
            "\u001b[0;32m<ipython-input-51-965225540468>\u001b[0m in \u001b[0;36m<cell line: 3>\u001b[0;34m()\u001b[0m\n\u001b[1;32m      1\u001b[0m \u001b[0;32mfrom\u001b[0m \u001b[0mpyngrok\u001b[0m \u001b[0;32mimport\u001b[0m \u001b[0mngrok\u001b[0m\u001b[0;34m\u001b[0m\u001b[0;34m\u001b[0m\u001b[0m\n\u001b[1;32m      2\u001b[0m \u001b[0;34m\u001b[0m\u001b[0m\n\u001b[0;32m----> 3\u001b[0;31m \u001b[0mpublic_url\u001b[0m \u001b[0;34m=\u001b[0m \u001b[0mngrok\u001b[0m\u001b[0;34m.\u001b[0m\u001b[0mconnect\u001b[0m\u001b[0;34m(\u001b[0m\u001b[0mport\u001b[0m\u001b[0;34m=\u001b[0m\u001b[0;36m8000\u001b[0m\u001b[0;34m)\u001b[0m\u001b[0;34m\u001b[0m\u001b[0;34m\u001b[0m\u001b[0m\n\u001b[0m\u001b[1;32m      4\u001b[0m \u001b[0mpublic_url\u001b[0m\u001b[0;34m\u001b[0m\u001b[0;34m\u001b[0m\u001b[0m\n",
            "\u001b[0;32m/usr/local/lib/python3.10/dist-packages/pyngrok/ngrok.py\u001b[0m in \u001b[0;36mconnect\u001b[0;34m(addr, proto, name, pyngrok_config, **options)\u001b[0m\n\u001b[1;32m    279\u001b[0m     \u001b[0mlogger\u001b[0m\u001b[0;34m.\u001b[0m\u001b[0mdebug\u001b[0m\u001b[0;34m(\u001b[0m\u001b[0;34m\"Creating tunnel with options: {}\"\u001b[0m\u001b[0;34m.\u001b[0m\u001b[0mformat\u001b[0m\u001b[0;34m(\u001b[0m\u001b[0moptions\u001b[0m\u001b[0;34m)\u001b[0m\u001b[0;34m)\u001b[0m\u001b[0;34m\u001b[0m\u001b[0;34m\u001b[0m\u001b[0m\n\u001b[1;32m    280\u001b[0m \u001b[0;34m\u001b[0m\u001b[0m\n\u001b[0;32m--> 281\u001b[0;31m     tunnel = NgrokTunnel(api_request(\"{}/api/tunnels\".format(api_url), method=\"POST\", data=options,\n\u001b[0m\u001b[1;32m    282\u001b[0m                                      timeout=pyngrok_config.request_timeout),\n\u001b[1;32m    283\u001b[0m                          pyngrok_config, api_url)\n",
            "\u001b[0;32m/usr/local/lib/python3.10/dist-packages/pyngrok/ngrok.py\u001b[0m in \u001b[0;36mapi_request\u001b[0;34m(url, method, data, params, timeout)\u001b[0m\n\u001b[1;32m    485\u001b[0m         \u001b[0mlogger\u001b[0m\u001b[0;34m.\u001b[0m\u001b[0mdebug\u001b[0m\u001b[0;34m(\u001b[0m\u001b[0;34m\"Response {}: {}\"\u001b[0m\u001b[0;34m.\u001b[0m\u001b[0mformat\u001b[0m\u001b[0;34m(\u001b[0m\u001b[0mstatus_code\u001b[0m\u001b[0;34m,\u001b[0m \u001b[0mresponse_data\u001b[0m\u001b[0;34m.\u001b[0m\u001b[0mstrip\u001b[0m\u001b[0;34m(\u001b[0m\u001b[0;34m)\u001b[0m\u001b[0;34m)\u001b[0m\u001b[0;34m)\u001b[0m\u001b[0;34m\u001b[0m\u001b[0;34m\u001b[0m\u001b[0m\n\u001b[1;32m    486\u001b[0m \u001b[0;34m\u001b[0m\u001b[0m\n\u001b[0;32m--> 487\u001b[0;31m         raise PyngrokNgrokHTTPError(\"ngrok client exception, API returned {}: {}\".format(status_code, response_data),\n\u001b[0m\u001b[1;32m    488\u001b[0m                                     \u001b[0me\u001b[0m\u001b[0;34m.\u001b[0m\u001b[0murl\u001b[0m\u001b[0;34m,\u001b[0m\u001b[0;34m\u001b[0m\u001b[0;34m\u001b[0m\u001b[0m\n\u001b[1;32m    489\u001b[0m                                     status_code, e.msg, e.hdrs, response_data)\n",
            "\u001b[0;31mPyngrokNgrokHTTPError\u001b[0m: ngrok client exception, API returned 400: {\"error_code\":102,\"status_code\":400,\"msg\":\"invalid tunnel configuration\",\"details\":{\"err\":\"yaml: unmarshal errors:\\n  line 1: field port not found in type config.HTTPv2Tunnel\"}}\n"
          ]
        }
      ]
    },
    {
      "cell_type": "code",
      "source": [],
      "metadata": {
        "id": "v2cjh3uZP1C7"
      },
      "execution_count": null,
      "outputs": []
    }
  ],
  "metadata": {
    "colab": {
      "provenance": [],
      "authorship_tag": "ABX9TyN38nB3zwQp94vvHdR9edkm",
      "include_colab_link": true
    },
    "kernelspec": {
      "display_name": "Python 3",
      "name": "python3"
    },
    "language_info": {
      "name": "python"
    }
  },
  "nbformat": 4,
  "nbformat_minor": 0
}