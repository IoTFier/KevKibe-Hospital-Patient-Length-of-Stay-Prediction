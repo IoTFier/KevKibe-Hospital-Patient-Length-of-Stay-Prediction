{
  "cells": [
    {
      "cell_type": "code",
      "execution_count": 7,
      "metadata": {
        "id": "2BP2Zi68Q5yd"
      },
      "outputs": [],
      "source": [
        "import pandas as pd\n",
        "import numpy as np\n",
        "\n",
        "from sklearn.model_selection import train_test_split, cross_val_score, KFold\n",
        "\n",
        "from sklearn.linear_model import LinearRegression, Ridge, Lasso\n",
        "\n",
        "from sklearn.tree import DecisionTreeRegressor\n",
        "\n",
        "from sklearn.ensemble import RandomForestRegressor,BaggingRegressor\n",
        "\n",
        "from sklearn.preprocessing import LabelEncoder\n",
        "\n",
        "# For tuning the model\n",
        "\n",
        "from sklearn.model_selection import GridSearchCV\n",
        "\n",
        "# To check the model performance\n",
        "\n",
        "from sklearn.metrics import make_scorer,mean_squared_error, r2_score, mean_absolute_error"
      ]
    },
    {
      "cell_type": "code",
      "execution_count": 8,
      "metadata": {
        "colab": {
          "base_uri": "https://localhost:8080/",
          "height": 791
        },
        "id": "dnUx_u6zT9hy",
        "outputId": "2d49481a-f769-4435-8051-261d94620db2"
      },
      "outputs": [
        {
          "output_type": "stream",
          "name": "stdout",
          "text": [
            "<class 'pandas.core.frame.DataFrame'>\n",
            "RangeIndex: 275097 entries, 0 to 275096\n",
            "Data columns (total 15 columns):\n",
            " #   Column                             Non-Null Count   Dtype  \n",
            "---  ------                             --------------   -----  \n",
            " 0   Available Extra Rooms in Hospital  275097 non-null  int64  \n",
            " 1   Department                         275097 non-null  object \n",
            " 2   Ward_Facility_Code                 275096 non-null  object \n",
            " 3   doctor_name                        275096 non-null  object \n",
            " 4   staff_available                    275096 non-null  float64\n",
            " 5   patientid                          275096 non-null  float64\n",
            " 6   Age                                275096 non-null  object \n",
            " 7   gender                             275096 non-null  object \n",
            " 8   Type of Admission                  275096 non-null  object \n",
            " 9   Severity of Illness                275096 non-null  object \n",
            " 10  health_conditions                  275096 non-null  object \n",
            " 11  Visitors with Patient              275096 non-null  float64\n",
            " 12  Insurance                          275096 non-null  object \n",
            " 13  Admission_Deposit                  275096 non-null  float64\n",
            " 14  Stay (in days)                     275096 non-null  float64\n",
            "dtypes: float64(5), int64(1), object(9)\n",
            "memory usage: 31.5+ MB\n"
          ]
        },
        {
          "output_type": "execute_result",
          "data": {
            "text/plain": [
              "   Available Extra Rooms in Hospital  Department Ward_Facility_Code  \\\n",
              "0                                  4  gynecology                  D   \n",
              "1                                  4  gynecology                  B   \n",
              "2                                  2  gynecology                  B   \n",
              "3                                  4  gynecology                  D   \n",
              "4                                  2  anesthesia                  E   \n",
              "\n",
              "  doctor_name  staff_available  patientid    Age  gender Type of Admission  \\\n",
              "0   Dr Sophia              0.0    33070.0  41-50  Female            Trauma   \n",
              "1   Dr Sophia              2.0    34808.0  31-40  Female            Trauma   \n",
              "2   Dr Sophia              8.0    44577.0  21-30  Female            Trauma   \n",
              "3   Dr Olivia              7.0     3695.0  31-40  Female            Urgent   \n",
              "4     Dr Mark             10.0   108956.0  71-80    Male            Trauma   \n",
              "\n",
              "  Severity of Illness health_conditions  Visitors with Patient Insurance  \\\n",
              "0             Extreme          Diabetes                    4.0       Yes   \n",
              "1               Minor     Heart disease                    2.0        No   \n",
              "2             Extreme          Diabetes                    2.0       Yes   \n",
              "3            Moderate              None                    4.0        No   \n",
              "4            Moderate          Diabetes                    2.0        No   \n",
              "\n",
              "   Admission_Deposit  Stay (in days)  \n",
              "0        2966.408696             8.0  \n",
              "1        3554.835677             9.0  \n",
              "2        5624.733654             7.0  \n",
              "3        4814.149231             8.0  \n",
              "4        5169.269637            34.0  "
            ],
            "text/html": [
              "\n",
              "  <div id=\"df-9cad8615-5104-4243-9409-a3fe0220d305\">\n",
              "    <div class=\"colab-df-container\">\n",
              "      <div>\n",
              "<style scoped>\n",
              "    .dataframe tbody tr th:only-of-type {\n",
              "        vertical-align: middle;\n",
              "    }\n",
              "\n",
              "    .dataframe tbody tr th {\n",
              "        vertical-align: top;\n",
              "    }\n",
              "\n",
              "    .dataframe thead th {\n",
              "        text-align: right;\n",
              "    }\n",
              "</style>\n",
              "<table border=\"1\" class=\"dataframe\">\n",
              "  <thead>\n",
              "    <tr style=\"text-align: right;\">\n",
              "      <th></th>\n",
              "      <th>Available Extra Rooms in Hospital</th>\n",
              "      <th>Department</th>\n",
              "      <th>Ward_Facility_Code</th>\n",
              "      <th>doctor_name</th>\n",
              "      <th>staff_available</th>\n",
              "      <th>patientid</th>\n",
              "      <th>Age</th>\n",
              "      <th>gender</th>\n",
              "      <th>Type of Admission</th>\n",
              "      <th>Severity of Illness</th>\n",
              "      <th>health_conditions</th>\n",
              "      <th>Visitors with Patient</th>\n",
              "      <th>Insurance</th>\n",
              "      <th>Admission_Deposit</th>\n",
              "      <th>Stay (in days)</th>\n",
              "    </tr>\n",
              "  </thead>\n",
              "  <tbody>\n",
              "    <tr>\n",
              "      <th>0</th>\n",
              "      <td>4</td>\n",
              "      <td>gynecology</td>\n",
              "      <td>D</td>\n",
              "      <td>Dr Sophia</td>\n",
              "      <td>0.0</td>\n",
              "      <td>33070.0</td>\n",
              "      <td>41-50</td>\n",
              "      <td>Female</td>\n",
              "      <td>Trauma</td>\n",
              "      <td>Extreme</td>\n",
              "      <td>Diabetes</td>\n",
              "      <td>4.0</td>\n",
              "      <td>Yes</td>\n",
              "      <td>2966.408696</td>\n",
              "      <td>8.0</td>\n",
              "    </tr>\n",
              "    <tr>\n",
              "      <th>1</th>\n",
              "      <td>4</td>\n",
              "      <td>gynecology</td>\n",
              "      <td>B</td>\n",
              "      <td>Dr Sophia</td>\n",
              "      <td>2.0</td>\n",
              "      <td>34808.0</td>\n",
              "      <td>31-40</td>\n",
              "      <td>Female</td>\n",
              "      <td>Trauma</td>\n",
              "      <td>Minor</td>\n",
              "      <td>Heart disease</td>\n",
              "      <td>2.0</td>\n",
              "      <td>No</td>\n",
              "      <td>3554.835677</td>\n",
              "      <td>9.0</td>\n",
              "    </tr>\n",
              "    <tr>\n",
              "      <th>2</th>\n",
              "      <td>2</td>\n",
              "      <td>gynecology</td>\n",
              "      <td>B</td>\n",
              "      <td>Dr Sophia</td>\n",
              "      <td>8.0</td>\n",
              "      <td>44577.0</td>\n",
              "      <td>21-30</td>\n",
              "      <td>Female</td>\n",
              "      <td>Trauma</td>\n",
              "      <td>Extreme</td>\n",
              "      <td>Diabetes</td>\n",
              "      <td>2.0</td>\n",
              "      <td>Yes</td>\n",
              "      <td>5624.733654</td>\n",
              "      <td>7.0</td>\n",
              "    </tr>\n",
              "    <tr>\n",
              "      <th>3</th>\n",
              "      <td>4</td>\n",
              "      <td>gynecology</td>\n",
              "      <td>D</td>\n",
              "      <td>Dr Olivia</td>\n",
              "      <td>7.0</td>\n",
              "      <td>3695.0</td>\n",
              "      <td>31-40</td>\n",
              "      <td>Female</td>\n",
              "      <td>Urgent</td>\n",
              "      <td>Moderate</td>\n",
              "      <td>None</td>\n",
              "      <td>4.0</td>\n",
              "      <td>No</td>\n",
              "      <td>4814.149231</td>\n",
              "      <td>8.0</td>\n",
              "    </tr>\n",
              "    <tr>\n",
              "      <th>4</th>\n",
              "      <td>2</td>\n",
              "      <td>anesthesia</td>\n",
              "      <td>E</td>\n",
              "      <td>Dr Mark</td>\n",
              "      <td>10.0</td>\n",
              "      <td>108956.0</td>\n",
              "      <td>71-80</td>\n",
              "      <td>Male</td>\n",
              "      <td>Trauma</td>\n",
              "      <td>Moderate</td>\n",
              "      <td>Diabetes</td>\n",
              "      <td>2.0</td>\n",
              "      <td>No</td>\n",
              "      <td>5169.269637</td>\n",
              "      <td>34.0</td>\n",
              "    </tr>\n",
              "  </tbody>\n",
              "</table>\n",
              "</div>\n",
              "      <button class=\"colab-df-convert\" onclick=\"convertToInteractive('df-9cad8615-5104-4243-9409-a3fe0220d305')\"\n",
              "              title=\"Convert this dataframe to an interactive table.\"\n",
              "              style=\"display:none;\">\n",
              "        \n",
              "  <svg xmlns=\"http://www.w3.org/2000/svg\" height=\"24px\"viewBox=\"0 0 24 24\"\n",
              "       width=\"24px\">\n",
              "    <path d=\"M0 0h24v24H0V0z\" fill=\"none\"/>\n",
              "    <path d=\"M18.56 5.44l.94 2.06.94-2.06 2.06-.94-2.06-.94-.94-2.06-.94 2.06-2.06.94zm-11 1L8.5 8.5l.94-2.06 2.06-.94-2.06-.94L8.5 2.5l-.94 2.06-2.06.94zm10 10l.94 2.06.94-2.06 2.06-.94-2.06-.94-.94-2.06-.94 2.06-2.06.94z\"/><path d=\"M17.41 7.96l-1.37-1.37c-.4-.4-.92-.59-1.43-.59-.52 0-1.04.2-1.43.59L10.3 9.45l-7.72 7.72c-.78.78-.78 2.05 0 2.83L4 21.41c.39.39.9.59 1.41.59.51 0 1.02-.2 1.41-.59l7.78-7.78 2.81-2.81c.8-.78.8-2.07 0-2.86zM5.41 20L4 18.59l7.72-7.72 1.47 1.35L5.41 20z\"/>\n",
              "  </svg>\n",
              "      </button>\n",
              "      \n",
              "  <style>\n",
              "    .colab-df-container {\n",
              "      display:flex;\n",
              "      flex-wrap:wrap;\n",
              "      gap: 12px;\n",
              "    }\n",
              "\n",
              "    .colab-df-convert {\n",
              "      background-color: #E8F0FE;\n",
              "      border: none;\n",
              "      border-radius: 50%;\n",
              "      cursor: pointer;\n",
              "      display: none;\n",
              "      fill: #1967D2;\n",
              "      height: 32px;\n",
              "      padding: 0 0 0 0;\n",
              "      width: 32px;\n",
              "    }\n",
              "\n",
              "    .colab-df-convert:hover {\n",
              "      background-color: #E2EBFA;\n",
              "      box-shadow: 0px 1px 2px rgba(60, 64, 67, 0.3), 0px 1px 3px 1px rgba(60, 64, 67, 0.15);\n",
              "      fill: #174EA6;\n",
              "    }\n",
              "\n",
              "    [theme=dark] .colab-df-convert {\n",
              "      background-color: #3B4455;\n",
              "      fill: #D2E3FC;\n",
              "    }\n",
              "\n",
              "    [theme=dark] .colab-df-convert:hover {\n",
              "      background-color: #434B5C;\n",
              "      box-shadow: 0px 1px 3px 1px rgba(0, 0, 0, 0.15);\n",
              "      filter: drop-shadow(0px 1px 2px rgba(0, 0, 0, 0.3));\n",
              "      fill: #FFFFFF;\n",
              "    }\n",
              "  </style>\n",
              "\n",
              "      <script>\n",
              "        const buttonEl =\n",
              "          document.querySelector('#df-9cad8615-5104-4243-9409-a3fe0220d305 button.colab-df-convert');\n",
              "        buttonEl.style.display =\n",
              "          google.colab.kernel.accessAllowed ? 'block' : 'none';\n",
              "\n",
              "        async function convertToInteractive(key) {\n",
              "          const element = document.querySelector('#df-9cad8615-5104-4243-9409-a3fe0220d305');\n",
              "          const dataTable =\n",
              "            await google.colab.kernel.invokeFunction('convertToInteractive',\n",
              "                                                     [key], {});\n",
              "          if (!dataTable) return;\n",
              "\n",
              "          const docLinkHtml = 'Like what you see? Visit the ' +\n",
              "            '<a target=\"_blank\" href=https://colab.research.google.com/notebooks/data_table.ipynb>data table notebook</a>'\n",
              "            + ' to learn more about interactive tables.';\n",
              "          element.innerHTML = '';\n",
              "          dataTable['output_type'] = 'display_data';\n",
              "          await google.colab.output.renderOutput(dataTable, element);\n",
              "          const docLink = document.createElement('div');\n",
              "          docLink.innerHTML = docLinkHtml;\n",
              "          element.appendChild(docLink);\n",
              "        }\n",
              "      </script>\n",
              "    </div>\n",
              "  </div>\n",
              "  "
            ]
          },
          "metadata": {},
          "execution_count": 8
        }
      ],
      "source": [
        "#loading the dataset to a dataframe\n",
        "df= pd.read_csv('/content/healthcare_data (1).csv')\n",
        "#data exploration\n",
        "df.info()\n",
        "df.head()"
      ]
    },
    {
      "cell_type": "code",
      "source": [
        "#df.isnull().sum()\n",
        "df.dropna(inplace=True)"
      ],
      "metadata": {
        "id": "SoLXXI0vAiZ7"
      },
      "execution_count": 17,
      "outputs": []
    },
    {
      "cell_type": "code",
      "execution_count": null,
      "metadata": {
        "id": "glMA4Qw_UJM0"
      },
      "outputs": [],
      "source": [
        "#creating a copy of the data so as not to make changes to the original\n",
        "same_data= df.copy()"
      ]
    },
    {
      "cell_type": "code",
      "execution_count": null,
      "metadata": {
        "colab": {
          "base_uri": "https://localhost:8080/"
        },
        "id": "wYGT16ezU3LU",
        "outputId": "1d643d9c-10ce-4c0b-8a1e-f9a76955bf07"
      },
      "outputs": [
        {
          "output_type": "execute_result",
          "data": {
            "text/plain": [
              "0"
            ]
          },
          "metadata": {},
          "execution_count": 4
        }
      ],
      "source": [
        "#checking for duplicate values\n",
        "df.duplicated().sum()"
      ]
    },
    {
      "cell_type": "markdown",
      "source": [
        "# Data Preparation for Model Building"
      ],
      "metadata": {
        "id": "I1ONF_CbhW84"
      }
    },
    {
      "cell_type": "code",
      "execution_count": 19,
      "metadata": {
        "id": "3QeOhqHfW2su"
      },
      "outputs": [],
      "source": [
        "df = pd.get_dummies(\n",
        "    df,\n",
        "    columns = df.select_dtypes(include = [\"object\", \"category\"]).columns.tolist(),\n",
        "    drop_first = True,\n",
        ")"
      ]
    },
    {
      "cell_type": "code",
      "source": [
        "df.head()"
      ],
      "metadata": {
        "colab": {
          "base_uri": "https://localhost:8080/",
          "height": 352
        },
        "id": "Y_dk-pU8ds1z",
        "outputId": "1508f9ef-c63a-4ef6-c321-69585ca085ea"
      },
      "execution_count": null,
      "outputs": [
        {
          "output_type": "execute_result",
          "data": {
            "text/plain": [
              "   Available Extra Rooms in Hospital  staff_available  patientid  \\\n",
              "0                                  4                0      33070   \n",
              "1                                  4                2      34808   \n",
              "2                                  2                8      44577   \n",
              "3                                  4                7       3695   \n",
              "4                                  2               10     108956   \n",
              "\n",
              "   Visitors with Patient  Admission_Deposit  Stay (in days)  \\\n",
              "0                      4        2966.408696               8   \n",
              "1                      2        3554.835677               9   \n",
              "2                      2        5624.733654               7   \n",
              "3                      4        4814.149231               8   \n",
              "4                      2        5169.269637              34   \n",
              "\n",
              "   Department_anesthesia  Department_gynecology  Department_radiotherapy  \\\n",
              "0                      0                      1                        0   \n",
              "1                      0                      1                        0   \n",
              "2                      0                      1                        0   \n",
              "3                      0                      1                        0   \n",
              "4                      1                      0                        0   \n",
              "\n",
              "   Department_surgery  ...  Type of Admission_Trauma  \\\n",
              "0                   0  ...                         1   \n",
              "1                   0  ...                         1   \n",
              "2                   0  ...                         1   \n",
              "3                   0  ...                         0   \n",
              "4                   0  ...                         1   \n",
              "\n",
              "   Type of Admission_Urgent  Severity of Illness_Minor  \\\n",
              "0                         0                          0   \n",
              "1                         0                          1   \n",
              "2                         0                          0   \n",
              "3                         1                          0   \n",
              "4                         0                          0   \n",
              "\n",
              "   Severity of Illness_Moderate  health_conditions_Diabetes  \\\n",
              "0                             0                           1   \n",
              "1                             0                           0   \n",
              "2                             0                           1   \n",
              "3                             1                           0   \n",
              "4                             1                           1   \n",
              "\n",
              "   health_conditions_Heart disease  health_conditions_High Blood Pressure  \\\n",
              "0                                0                                      0   \n",
              "1                                1                                      0   \n",
              "2                                0                                      0   \n",
              "3                                0                                      0   \n",
              "4                                0                                      0   \n",
              "\n",
              "   health_conditions_None  health_conditions_Other  Insurance_Yes  \n",
              "0                       0                        0              1  \n",
              "1                       0                        0              0  \n",
              "2                       0                        0              1  \n",
              "3                       1                        0              0  \n",
              "4                       0                        0              0  \n",
              "\n",
              "[5 rows x 44 columns]"
            ],
            "text/html": [
              "\n",
              "  <div id=\"df-962555dc-4f28-4345-b9d4-ae8ecd0a737d\">\n",
              "    <div class=\"colab-df-container\">\n",
              "      <div>\n",
              "<style scoped>\n",
              "    .dataframe tbody tr th:only-of-type {\n",
              "        vertical-align: middle;\n",
              "    }\n",
              "\n",
              "    .dataframe tbody tr th {\n",
              "        vertical-align: top;\n",
              "    }\n",
              "\n",
              "    .dataframe thead th {\n",
              "        text-align: right;\n",
              "    }\n",
              "</style>\n",
              "<table border=\"1\" class=\"dataframe\">\n",
              "  <thead>\n",
              "    <tr style=\"text-align: right;\">\n",
              "      <th></th>\n",
              "      <th>Available Extra Rooms in Hospital</th>\n",
              "      <th>staff_available</th>\n",
              "      <th>patientid</th>\n",
              "      <th>Visitors with Patient</th>\n",
              "      <th>Admission_Deposit</th>\n",
              "      <th>Stay (in days)</th>\n",
              "      <th>Department_anesthesia</th>\n",
              "      <th>Department_gynecology</th>\n",
              "      <th>Department_radiotherapy</th>\n",
              "      <th>Department_surgery</th>\n",
              "      <th>...</th>\n",
              "      <th>Type of Admission_Trauma</th>\n",
              "      <th>Type of Admission_Urgent</th>\n",
              "      <th>Severity of Illness_Minor</th>\n",
              "      <th>Severity of Illness_Moderate</th>\n",
              "      <th>health_conditions_Diabetes</th>\n",
              "      <th>health_conditions_Heart disease</th>\n",
              "      <th>health_conditions_High Blood Pressure</th>\n",
              "      <th>health_conditions_None</th>\n",
              "      <th>health_conditions_Other</th>\n",
              "      <th>Insurance_Yes</th>\n",
              "    </tr>\n",
              "  </thead>\n",
              "  <tbody>\n",
              "    <tr>\n",
              "      <th>0</th>\n",
              "      <td>4</td>\n",
              "      <td>0</td>\n",
              "      <td>33070</td>\n",
              "      <td>4</td>\n",
              "      <td>2966.408696</td>\n",
              "      <td>8</td>\n",
              "      <td>0</td>\n",
              "      <td>1</td>\n",
              "      <td>0</td>\n",
              "      <td>0</td>\n",
              "      <td>...</td>\n",
              "      <td>1</td>\n",
              "      <td>0</td>\n",
              "      <td>0</td>\n",
              "      <td>0</td>\n",
              "      <td>1</td>\n",
              "      <td>0</td>\n",
              "      <td>0</td>\n",
              "      <td>0</td>\n",
              "      <td>0</td>\n",
              "      <td>1</td>\n",
              "    </tr>\n",
              "    <tr>\n",
              "      <th>1</th>\n",
              "      <td>4</td>\n",
              "      <td>2</td>\n",
              "      <td>34808</td>\n",
              "      <td>2</td>\n",
              "      <td>3554.835677</td>\n",
              "      <td>9</td>\n",
              "      <td>0</td>\n",
              "      <td>1</td>\n",
              "      <td>0</td>\n",
              "      <td>0</td>\n",
              "      <td>...</td>\n",
              "      <td>1</td>\n",
              "      <td>0</td>\n",
              "      <td>1</td>\n",
              "      <td>0</td>\n",
              "      <td>0</td>\n",
              "      <td>1</td>\n",
              "      <td>0</td>\n",
              "      <td>0</td>\n",
              "      <td>0</td>\n",
              "      <td>0</td>\n",
              "    </tr>\n",
              "    <tr>\n",
              "      <th>2</th>\n",
              "      <td>2</td>\n",
              "      <td>8</td>\n",
              "      <td>44577</td>\n",
              "      <td>2</td>\n",
              "      <td>5624.733654</td>\n",
              "      <td>7</td>\n",
              "      <td>0</td>\n",
              "      <td>1</td>\n",
              "      <td>0</td>\n",
              "      <td>0</td>\n",
              "      <td>...</td>\n",
              "      <td>1</td>\n",
              "      <td>0</td>\n",
              "      <td>0</td>\n",
              "      <td>0</td>\n",
              "      <td>1</td>\n",
              "      <td>0</td>\n",
              "      <td>0</td>\n",
              "      <td>0</td>\n",
              "      <td>0</td>\n",
              "      <td>1</td>\n",
              "    </tr>\n",
              "    <tr>\n",
              "      <th>3</th>\n",
              "      <td>4</td>\n",
              "      <td>7</td>\n",
              "      <td>3695</td>\n",
              "      <td>4</td>\n",
              "      <td>4814.149231</td>\n",
              "      <td>8</td>\n",
              "      <td>0</td>\n",
              "      <td>1</td>\n",
              "      <td>0</td>\n",
              "      <td>0</td>\n",
              "      <td>...</td>\n",
              "      <td>0</td>\n",
              "      <td>1</td>\n",
              "      <td>0</td>\n",
              "      <td>1</td>\n",
              "      <td>0</td>\n",
              "      <td>0</td>\n",
              "      <td>0</td>\n",
              "      <td>1</td>\n",
              "      <td>0</td>\n",
              "      <td>0</td>\n",
              "    </tr>\n",
              "    <tr>\n",
              "      <th>4</th>\n",
              "      <td>2</td>\n",
              "      <td>10</td>\n",
              "      <td>108956</td>\n",
              "      <td>2</td>\n",
              "      <td>5169.269637</td>\n",
              "      <td>34</td>\n",
              "      <td>1</td>\n",
              "      <td>0</td>\n",
              "      <td>0</td>\n",
              "      <td>0</td>\n",
              "      <td>...</td>\n",
              "      <td>1</td>\n",
              "      <td>0</td>\n",
              "      <td>0</td>\n",
              "      <td>1</td>\n",
              "      <td>1</td>\n",
              "      <td>0</td>\n",
              "      <td>0</td>\n",
              "      <td>0</td>\n",
              "      <td>0</td>\n",
              "      <td>0</td>\n",
              "    </tr>\n",
              "  </tbody>\n",
              "</table>\n",
              "<p>5 rows × 44 columns</p>\n",
              "</div>\n",
              "      <button class=\"colab-df-convert\" onclick=\"convertToInteractive('df-962555dc-4f28-4345-b9d4-ae8ecd0a737d')\"\n",
              "              title=\"Convert this dataframe to an interactive table.\"\n",
              "              style=\"display:none;\">\n",
              "        \n",
              "  <svg xmlns=\"http://www.w3.org/2000/svg\" height=\"24px\"viewBox=\"0 0 24 24\"\n",
              "       width=\"24px\">\n",
              "    <path d=\"M0 0h24v24H0V0z\" fill=\"none\"/>\n",
              "    <path d=\"M18.56 5.44l.94 2.06.94-2.06 2.06-.94-2.06-.94-.94-2.06-.94 2.06-2.06.94zm-11 1L8.5 8.5l.94-2.06 2.06-.94-2.06-.94L8.5 2.5l-.94 2.06-2.06.94zm10 10l.94 2.06.94-2.06 2.06-.94-2.06-.94-.94-2.06-.94 2.06-2.06.94z\"/><path d=\"M17.41 7.96l-1.37-1.37c-.4-.4-.92-.59-1.43-.59-.52 0-1.04.2-1.43.59L10.3 9.45l-7.72 7.72c-.78.78-.78 2.05 0 2.83L4 21.41c.39.39.9.59 1.41.59.51 0 1.02-.2 1.41-.59l7.78-7.78 2.81-2.81c.8-.78.8-2.07 0-2.86zM5.41 20L4 18.59l7.72-7.72 1.47 1.35L5.41 20z\"/>\n",
              "  </svg>\n",
              "      </button>\n",
              "      \n",
              "  <style>\n",
              "    .colab-df-container {\n",
              "      display:flex;\n",
              "      flex-wrap:wrap;\n",
              "      gap: 12px;\n",
              "    }\n",
              "\n",
              "    .colab-df-convert {\n",
              "      background-color: #E8F0FE;\n",
              "      border: none;\n",
              "      border-radius: 50%;\n",
              "      cursor: pointer;\n",
              "      display: none;\n",
              "      fill: #1967D2;\n",
              "      height: 32px;\n",
              "      padding: 0 0 0 0;\n",
              "      width: 32px;\n",
              "    }\n",
              "\n",
              "    .colab-df-convert:hover {\n",
              "      background-color: #E2EBFA;\n",
              "      box-shadow: 0px 1px 2px rgba(60, 64, 67, 0.3), 0px 1px 3px 1px rgba(60, 64, 67, 0.15);\n",
              "      fill: #174EA6;\n",
              "    }\n",
              "\n",
              "    [theme=dark] .colab-df-convert {\n",
              "      background-color: #3B4455;\n",
              "      fill: #D2E3FC;\n",
              "    }\n",
              "\n",
              "    [theme=dark] .colab-df-convert:hover {\n",
              "      background-color: #434B5C;\n",
              "      box-shadow: 0px 1px 3px 1px rgba(0, 0, 0, 0.15);\n",
              "      filter: drop-shadow(0px 1px 2px rgba(0, 0, 0, 0.3));\n",
              "      fill: #FFFFFF;\n",
              "    }\n",
              "  </style>\n",
              "\n",
              "      <script>\n",
              "        const buttonEl =\n",
              "          document.querySelector('#df-962555dc-4f28-4345-b9d4-ae8ecd0a737d button.colab-df-convert');\n",
              "        buttonEl.style.display =\n",
              "          google.colab.kernel.accessAllowed ? 'block' : 'none';\n",
              "\n",
              "        async function convertToInteractive(key) {\n",
              "          const element = document.querySelector('#df-962555dc-4f28-4345-b9d4-ae8ecd0a737d');\n",
              "          const dataTable =\n",
              "            await google.colab.kernel.invokeFunction('convertToInteractive',\n",
              "                                                     [key], {});\n",
              "          if (!dataTable) return;\n",
              "\n",
              "          const docLinkHtml = 'Like what you see? Visit the ' +\n",
              "            '<a target=\"_blank\" href=https://colab.research.google.com/notebooks/data_table.ipynb>data table notebook</a>'\n",
              "            + ' to learn more about interactive tables.';\n",
              "          element.innerHTML = '';\n",
              "          dataTable['output_type'] = 'display_data';\n",
              "          await google.colab.output.renderOutput(dataTable, element);\n",
              "          const docLink = document.createElement('div');\n",
              "          docLink.innerHTML = docLinkHtml;\n",
              "          element.appendChild(docLink);\n",
              "        }\n",
              "      </script>\n",
              "    </div>\n",
              "  </div>\n",
              "  "
            ]
          },
          "metadata": {},
          "execution_count": 5
        }
      ]
    },
    {
      "cell_type": "code",
      "source": [
        "#correlation analysis\n",
        "correlations = df.corr()['Stay (in days)']\n",
        "correlations"
      ],
      "metadata": {
        "id": "qUdpN3GdpPoy",
        "outputId": "68a0c752-bbfd-4fd8-8db3-480a737be9f8",
        "colab": {
          "base_uri": "https://localhost:8080/"
        }
      },
      "execution_count": null,
      "outputs": [
        {
          "output_type": "execute_result",
          "data": {
            "text/plain": [
              "Available Extra Rooms in Hospital       -0.019219\n",
              "staff_available                          0.007398\n",
              "patientid                                0.006169\n",
              "Visitors with Patient                    0.027302\n",
              "Admission_Deposit                        0.044203\n",
              "Stay (in days)                           1.000000\n",
              "Department_anesthesia                    0.596323\n",
              "Department_gynecology                   -0.701090\n",
              "Department_radiotherapy                  0.217235\n",
              "Department_surgery                       0.236350\n",
              "Ward_Facility_Code_B                    -0.240791\n",
              "Ward_Facility_Code_C                     0.171404\n",
              "Ward_Facility_Code_D                    -0.263913\n",
              "Ward_Facility_Code_E                     0.450167\n",
              "Ward_Facility_Code_F                    -0.268901\n",
              "doctor_name_Dr John                      0.336819\n",
              "doctor_name_Dr Mark                      0.510740\n",
              "doctor_name_Dr Nathan                   -0.193380\n",
              "doctor_name_Dr Olivia                   -0.234180\n",
              "doctor_name_Dr Sam                       0.171028\n",
              "doctor_name_Dr Sarah                    -0.234645\n",
              "doctor_name_Dr Simon                     0.137195\n",
              "doctor_name_Dr Sophia                   -0.198839\n",
              "Age_11-20                               -0.149511\n",
              "Age_21-30                               -0.144137\n",
              "Age_31-40                               -0.262521\n",
              "Age_41-50                               -0.184739\n",
              "Age_51-60                                0.406265\n",
              "Age_61-70                                0.441520\n",
              "Age_71-80                                0.348206\n",
              "Age_81-90                                0.226472\n",
              "Age_91-100                               0.102132\n",
              "gender_Male                              0.530151\n",
              "gender_Other                             0.239800\n",
              "Type of Admission_Trauma                 0.045752\n",
              "Type of Admission_Urgent                -0.000756\n",
              "Severity of Illness_Minor               -0.069934\n",
              "Severity of Illness_Moderate             0.048318\n",
              "health_conditions_Diabetes              -0.001049\n",
              "health_conditions_Heart disease         -0.002358\n",
              "health_conditions_High Blood Pressure    0.001776\n",
              "health_conditions_None                  -0.000493\n",
              "health_conditions_Other                  0.001476\n",
              "Insurance_Yes                           -0.000236\n",
              "Name: Stay (in days), dtype: float64"
            ]
          },
          "metadata": {},
          "execution_count": 7
        }
      ]
    },
    {
      "cell_type": "code",
      "source": [
        "#dropping less correlated features\n",
        "df = df.drop(['patientid'],axis = 1)"
      ],
      "metadata": {
        "id": "1f5SZS6ed1pY"
      },
      "execution_count": null,
      "outputs": []
    },
    {
      "cell_type": "code",
      "source": [
        "#seperating the feature variables and target variables\n",
        "X = df.drop('Stay (in days)',axis = 1)\n",
        "\n",
        "y = df['Stay (in days)']"
      ],
      "metadata": {
        "id": "c_33J_yzeDqD"
      },
      "execution_count": 21,
      "outputs": []
    },
    {
      "cell_type": "code",
      "source": [
        "#splitting the training and test sets\n",
        "X_train, X_test, y_train, y_test = train_test_split(X, y, test_size = 0.2, shuffle = True, random_state = 1)\n",
        "\n",
        "#checking the shape of the train and test set\n",
        "print('Train Shape:',X_train.shape)\n",
        "print('Test Shape:',X_test.shape)"
      ],
      "metadata": {
        "colab": {
          "base_uri": "https://localhost:8080/"
        },
        "id": "Il0Ptg7rekjs",
        "outputId": "096fc96d-595a-4c90-e23d-16ef7273e37c"
      },
      "execution_count": 23,
      "outputs": [
        {
          "output_type": "stream",
          "name": "stdout",
          "text": [
            "Train Shape: (220076, 43)\n",
            "Test Shape: (55020, 43)\n"
          ]
        }
      ]
    },
    {
      "cell_type": "code",
      "source": [
        "df.info()"
      ],
      "metadata": {
        "id": "FGZwRfK2MrnI",
        "outputId": "8787a500-3734-467d-a604-d449acbe3c4b",
        "colab": {
          "base_uri": "https://localhost:8080/"
        }
      },
      "execution_count": null,
      "outputs": [
        {
          "output_type": "stream",
          "name": "stdout",
          "text": [
            "<class 'pandas.core.frame.DataFrame'>\n",
            "RangeIndex: 500000 entries, 0 to 499999\n",
            "Data columns (total 43 columns):\n",
            " #   Column                                 Non-Null Count   Dtype  \n",
            "---  ------                                 --------------   -----  \n",
            " 0   Available Extra Rooms in Hospital      500000 non-null  int64  \n",
            " 1   staff_available                        500000 non-null  int64  \n",
            " 2   Visitors with Patient                  500000 non-null  int64  \n",
            " 3   Admission_Deposit                      500000 non-null  float64\n",
            " 4   Stay (in days)                         500000 non-null  int64  \n",
            " 5   Department_anesthesia                  500000 non-null  uint8  \n",
            " 6   Department_gynecology                  500000 non-null  uint8  \n",
            " 7   Department_radiotherapy                500000 non-null  uint8  \n",
            " 8   Department_surgery                     500000 non-null  uint8  \n",
            " 9   Ward_Facility_Code_B                   500000 non-null  uint8  \n",
            " 10  Ward_Facility_Code_C                   500000 non-null  uint8  \n",
            " 11  Ward_Facility_Code_D                   500000 non-null  uint8  \n",
            " 12  Ward_Facility_Code_E                   500000 non-null  uint8  \n",
            " 13  Ward_Facility_Code_F                   500000 non-null  uint8  \n",
            " 14  doctor_name_Dr John                    500000 non-null  uint8  \n",
            " 15  doctor_name_Dr Mark                    500000 non-null  uint8  \n",
            " 16  doctor_name_Dr Nathan                  500000 non-null  uint8  \n",
            " 17  doctor_name_Dr Olivia                  500000 non-null  uint8  \n",
            " 18  doctor_name_Dr Sam                     500000 non-null  uint8  \n",
            " 19  doctor_name_Dr Sarah                   500000 non-null  uint8  \n",
            " 20  doctor_name_Dr Simon                   500000 non-null  uint8  \n",
            " 21  doctor_name_Dr Sophia                  500000 non-null  uint8  \n",
            " 22  Age_11-20                              500000 non-null  uint8  \n",
            " 23  Age_21-30                              500000 non-null  uint8  \n",
            " 24  Age_31-40                              500000 non-null  uint8  \n",
            " 25  Age_41-50                              500000 non-null  uint8  \n",
            " 26  Age_51-60                              500000 non-null  uint8  \n",
            " 27  Age_61-70                              500000 non-null  uint8  \n",
            " 28  Age_71-80                              500000 non-null  uint8  \n",
            " 29  Age_81-90                              500000 non-null  uint8  \n",
            " 30  Age_91-100                             500000 non-null  uint8  \n",
            " 31  gender_Male                            500000 non-null  uint8  \n",
            " 32  gender_Other                           500000 non-null  uint8  \n",
            " 33  Type of Admission_Trauma               500000 non-null  uint8  \n",
            " 34  Type of Admission_Urgent               500000 non-null  uint8  \n",
            " 35  Severity of Illness_Minor              500000 non-null  uint8  \n",
            " 36  Severity of Illness_Moderate           500000 non-null  uint8  \n",
            " 37  health_conditions_Diabetes             500000 non-null  uint8  \n",
            " 38  health_conditions_Heart disease        500000 non-null  uint8  \n",
            " 39  health_conditions_High Blood Pressure  500000 non-null  uint8  \n",
            " 40  health_conditions_None                 500000 non-null  uint8  \n",
            " 41  health_conditions_Other                500000 non-null  uint8  \n",
            " 42  Insurance_Yes                          500000 non-null  uint8  \n",
            "dtypes: float64(1), int64(4), uint8(38)\n",
            "memory usage: 37.2 MB\n"
          ]
        }
      ]
    },
    {
      "cell_type": "markdown",
      "source": [
        "# Model Building"
      ],
      "metadata": {
        "id": "vVKbKBBOfNOR"
      }
    },
    {
      "cell_type": "code",
      "source": [
        "from sklearn.model_selection import cross_val_score\n",
        "\n",
        "# Build the regression model using sklearn linear regression\n",
        "linreg = LinearRegression()\n",
        "linreg.fit(X_train, y_train)\n",
        "y_pred = linreg.predict(X_test)\n",
        "\n",
        "mse = mean_squared_error(y_test, y_pred)\n",
        "mae = mean_absolute_error(y_test, y_pred)\n",
        "r2 = r2_score(y_test, y_pred)\n",
        "\n",
        "print(\"Mean Squared Error (MSE):\", mse)\n",
        "print(\"Mean Absolute Error (MAE):\", mae)\n",
        "print(\"R-squared (R2) Score:\", r2)"
      ],
      "metadata": {
        "colab": {
          "base_uri": "https://localhost:8080/"
        },
        "id": "w7HZ9WVejQSf",
        "outputId": "1fa60931-6594-4e0b-b807-216046b849d4"
      },
      "execution_count": null,
      "outputs": [
        {
          "output_type": "stream",
          "name": "stdout",
          "text": [
            "Mean Squared Error (MSE): 9.884965445902619\n",
            "Mean Absolute Error (MAE): 2.155759034562716\n",
            "R-squared (R2) Score: 0.8430298956456241\n"
          ]
        }
      ]
    },
    {
      "cell_type": "markdown",
      "source": [
        "# Random Forest Regressor"
      ],
      "metadata": {
        "id": "nnJMAMjhnxgA"
      }
    },
    {
      "cell_type": "code",
      "source": [
        "# Random Forest Regressor\n",
        "regressor = RandomForestRegressor(n_estimators = 100, random_state = 1)\n",
        "\n",
        "# Fitting the model\n",
        "regressor.fit(X_train, y_train)\n",
        "\n",
        "y_pred = regressor.predict(X_test)\n",
        "\n",
        "mse = mean_squared_error(y_test, y_pred)\n",
        "mae = mean_absolute_error(y_test, y_pred)\n",
        "r2 = r2_score(y_test, y_pred)\n",
        "\n",
        "print(\"Mean Squared Error (MSE):\", mse)\n",
        "print(\"Mean Absolute Error (MAE):\", mae)\n",
        "print(\"R-squared (R2) Score:\", r2)"
      ],
      "metadata": {
        "colab": {
          "base_uri": "https://localhost:8080/"
        },
        "id": "osyEp49Bm3Q6",
        "outputId": "a775ae4f-d6af-4a93-cf16-c4249c7d75f6"
      },
      "execution_count": 24,
      "outputs": [
        {
          "output_type": "stream",
          "name": "stdout",
          "text": [
            "Mean Squared Error (MSE): 1.800200058160669\n",
            "Mean Absolute Error (MAE): 0.8952275536168666\n",
            "R-squared (R2) Score: 0.9709277134950701\n"
          ]
        }
      ]
    },
    {
      "cell_type": "code",
      "source": [
        "#fitting the gradient boost regressor\n",
        "from sklearn.ensemble import GradientBoostingRegressor\n",
        "\n",
        "GBreg = GradientBoostingRegressor(n_estimators = 100, random_state = 1, learning_rate=0.1, max_depth=3)\n",
        "\n",
        "GBreg.fit(X_train, y_train)\n",
        "\n",
        "y_pred = GBreg.predict(X_test)\n",
        "\n",
        "mse = mean_squared_error(y_test, y_pred)\n",
        "mae = mean_absolute_error(y_test, y_pred)\n",
        "r2 = r2_score(y_test, y_pred)\n",
        "\n",
        "print(\"Mean Squared Error (MSE):\", mse)\n",
        "print(\"Mean Absolute Error (MAE):\", mae)\n",
        "print(\"R-squared (R2) Score:\", r2)\n"
      ],
      "metadata": {
        "colab": {
          "base_uri": "https://localhost:8080/"
        },
        "id": "w8RpdHiZpdsA",
        "outputId": "b872691e-2416-46d3-f2f0-b811c7ec7bae"
      },
      "execution_count": null,
      "outputs": [
        {
          "output_type": "stream",
          "name": "stdout",
          "text": [
            "Mean Squared Error (MSE): 3.213847966912557\n",
            "Mean Absolute Error (MAE): 1.2127491554423462\n",
            "R-squared (R2) Score: 0.9489651174294724\n"
          ]
        }
      ]
    },
    {
      "cell_type": "code",
      "source": [
        "#fitting XGBoost\n",
        "import xgboost as xgb\n",
        "\n",
        "xgb_model = xgb.XGBRegressor(objective='reg:squarederror', n_estimators=100, learning_rate=0.1, max_depth=3, random_state=1)\n",
        "#fitting the model\n",
        "xgb_model.fit(X_train, y_train)\n",
        "\n",
        "y_pred = xgb_model.predict(X_test)\n",
        "\n",
        "mse = mean_squared_error(y_test, y_pred)\n",
        "mae = mean_absolute_error(y_test, y_pred)\n",
        "r2 = r2_score(y_test, y_pred)\n",
        "\n",
        "print(\"Mean Squared Error (MSE):\", mse)\n",
        "print(\"Mean Absolute Error (MAE):\", mae)\n",
        "print(\"R-squared (R2) Score:\", r2)\n"
      ],
      "metadata": {
        "colab": {
          "base_uri": "https://localhost:8080/"
        },
        "id": "C3QngcOwqIYO",
        "outputId": "7efa5a9c-c011-4ea7-c2cd-876e9353fec8"
      },
      "execution_count": null,
      "outputs": [
        {
          "output_type": "stream",
          "name": "stdout",
          "text": [
            "Mean Squared Error (MSE): 3.2179812213485643\n",
            "Mean Absolute Error (MAE): 1.2135936201810837\n",
            "R-squared (R2) Score: 0.9488994826648702\n"
          ]
        }
      ]
    },
    {
      "cell_type": "code",
      "source": [
        "#fitting lightGBM\n",
        "import lightgbm as lgb\n",
        "\n",
        "# Define the dataset format for LightGBM\n",
        "train_data = lgb.Dataset(X_train, label=y_train)\n",
        "\n",
        "# Set the hyperparameters for the model\n",
        "params = {\n",
        "    'objective': 'regression',\n",
        "    'boosting_type': 'gbdt',\n",
        "    'metric': 'mae',\n",
        "    'num_leaves': 31,\n",
        "    'learning_rate': 0.1,\n",
        "    'feature_fraction': 0.9,\n",
        "    'bagging_fraction': 0.8,\n",
        "    'bagging_freq': 5,\n",
        "    'random_state': 1\n",
        "}\n",
        "#training the model\n",
        "lgb_model = lgb.train(params, train_data, num_boost_round=100)\n",
        "\n",
        "\n",
        "y_pred = lgb_model.predict(X_test)\n",
        "\n",
        "mse = mean_squared_error(y_test, y_pred)\n",
        "mae = mean_absolute_error(y_test, y_pred)\n",
        "r2 = r2_score(y_test, y_pred)\n",
        "\n",
        "print(\"Mean Squared Error (MSE):\", mse)\n",
        "print(\"Mean Absolute Error (MAE):\", mae)\n",
        "print(\"R-squared (R2) Score:\", r2)\n"
      ],
      "metadata": {
        "colab": {
          "base_uri": "https://localhost:8080/"
        },
        "id": "nbVytXhir-N9",
        "outputId": "815b930e-ea48-4dac-ca87-b3e30b250ca5"
      },
      "execution_count": null,
      "outputs": [
        {
          "output_type": "stream",
          "name": "stdout",
          "text": [
            "[LightGBM] [Warning] Found whitespace in feature_names, replace with underlines\n",
            "[LightGBM] [Warning] Auto-choosing row-wise multi-threading, the overhead of testing was 0.026965 seconds.\n",
            "You can set `force_row_wise=true` to remove the overhead.\n",
            "And if memory is not enough, you can set `force_col_wise=true`.\n",
            "[LightGBM] [Info] Total Bins 388\n",
            "[LightGBM] [Info] Number of data points in the train set: 400000, number of used features: 42\n",
            "[LightGBM] [Info] Start training from score 12.375650\n",
            "Mean Squared Error (MSE): 2.505736080127015\n",
            "Mean Absolute Error (MAE): 1.0928246579135998\n",
            "R-squared (R2) Score: 0.9602097087607829\n"
          ]
        }
      ]
    },
    {
      "cell_type": "code",
      "source": [
        "#hyperparameter tuning using grid search\n",
        "rf_tuned = RandomForestRegressor(n_estimators = 100,random_state = 1)\n",
        "\n",
        "# Define the hyperparameters to be tuned\n",
        "param_grid = {\n",
        "\n",
        "    \"max_depth\": [5, 7],\n",
        "    \"max_features\": [0.8, 1]\n",
        "}\n",
        "\n",
        "\n",
        "# Type of scoring used to compare parameter combinations\n",
        "scorer = make_scorer(r2_score)\n",
        "\n",
        "# Run the grid search\n",
        "grid_obj = GridSearchCV(rf_tuned, param_grid, cv = 5)\n",
        "\n",
        "grid_obj = grid_obj.fit(X_train, y_train)\n",
        "\n",
        "# Set the rf_tuned_regressor to the best combination of parameters\n",
        "rf_tuned_regressor = grid_obj.best_estimator_\n",
        "\n",
        "rf_tuned_regressor.fit(X_train, y_train)\n",
        "\n",
        "y_pred = rf_tuned_regressor.predict(X_test)\n",
        "\n",
        "mse = mean_squared_error(y_test, y_pred)\n",
        "mae = mean_absolute_error(y_test, y_pred)\n",
        "r2 = r2_score(y_test, y_pred)\n",
        "\n",
        "print(\"Mean Squared Error (MSE):\", mse)\n",
        "print(\"Mean Absolute Error (MAE):\", mae)\n",
        "print(\"R-squared (R2) Score:\", r2)"
      ],
      "metadata": {
        "id": "VBT2w35Zv1qW",
        "colab": {
          "base_uri": "https://localhost:8080/"
        },
        "outputId": "11c9b5db-b63d-4e29-d6b5-6500d63e0c4d"
      },
      "execution_count": null,
      "outputs": [
        {
          "output_type": "stream",
          "name": "stdout",
          "text": [
            "Mean Squared Error (MSE): 2.9687492649150133\n",
            "Mean Absolute Error (MAE): 1.1564083439719384\n",
            "R-squared (R2) Score: 0.9528572067888362\n"
          ]
        }
      ]
    },
    {
      "cell_type": "markdown",
      "source": [
        "# Neural Network"
      ],
      "metadata": {
        "id": "Sa_hZ3toIn3-"
      }
    },
    {
      "cell_type": "code",
      "source": [
        "from keras.callbacks import ModelCheckpoint\n",
        "from keras.models import Sequential\n",
        "from keras.layers import Dense, Activation, Flatten\n",
        "\n",
        "#define the model\n",
        "NN_model = Sequential()\n",
        "\n",
        "# The Input Layer :\n",
        "NN_model.add(Dense(128, kernel_initializer='normal',input_dim = X_train.shape[1], activation='relu'))\n",
        "\n",
        "# The Hidden Layers :\n",
        "NN_model.add(Dense(256, kernel_initializer='normal',activation='relu'))\n",
        "NN_model.add(Dense(256, kernel_initializer='normal',activation='relu'))\n",
        "NN_model.add(Dense(256, kernel_initializer='normal',activation='relu'))\n",
        "\n",
        "# The Output Layer :\n",
        "NN_model.add(Dense(1, kernel_initializer='normal',activation='linear'))\n",
        "\n",
        "# Compile the network :\n",
        "NN_model.compile(loss='mean_absolute_error', optimizer='adam', metrics=['mean_absolute_error'])\n",
        "NN_model.summary()"
      ],
      "metadata": {
        "colab": {
          "base_uri": "https://localhost:8080/"
        },
        "id": "M6ecTQQpHHoQ",
        "outputId": "aea8481a-ed82-4d96-aca7-0cdf19cf357e"
      },
      "execution_count": null,
      "outputs": [
        {
          "output_type": "stream",
          "name": "stdout",
          "text": [
            "Model: \"sequential\"\n",
            "_________________________________________________________________\n",
            " Layer (type)                Output Shape              Param #   \n",
            "=================================================================\n",
            " dense (Dense)               (None, 128)               5504      \n",
            "                                                                 \n",
            " dense_1 (Dense)             (None, 256)               33024     \n",
            "                                                                 \n",
            " dense_2 (Dense)             (None, 256)               65792     \n",
            "                                                                 \n",
            " dense_3 (Dense)             (None, 256)               65792     \n",
            "                                                                 \n",
            " dense_4 (Dense)             (None, 1)                 257       \n",
            "                                                                 \n",
            "=================================================================\n",
            "Total params: 170,369\n",
            "Trainable params: 170,369\n",
            "Non-trainable params: 0\n",
            "_________________________________________________________________\n"
          ]
        }
      ]
    },
    {
      "cell_type": "code",
      "source": [
        "checkpoint_name = 'NN_model.hdf5'\n",
        "checkpoint = ModelCheckpoint(checkpoint_name, monitor='val_loss', verbose = 1, save_best_only = True, mode ='auto')\n",
        "callbacks_list = [checkpoint]"
      ],
      "metadata": {
        "id": "Qtj-kSBXHnkK"
      },
      "execution_count": null,
      "outputs": []
    },
    {
      "cell_type": "code",
      "source": [
        "NN_model.fit(X_train, y_train, epochs=30, batch_size=32, validation_split = 0.2, callbacks=callbacks_list)"
      ],
      "metadata": {
        "id": "ieUEuHI3ILac"
      },
      "execution_count": null,
      "outputs": []
    },
    {
      "cell_type": "code",
      "source": [
        "\n",
        "y_pred = NN_model.predict(X_test)\n",
        "\n",
        "mse = mean_squared_error(y_test, y_pred)\n",
        "mae = mean_absolute_error(y_test, y_pred)\n",
        "r2 = r2_score(y_test, y_pred)\n",
        "\n",
        "print(\"Mean Squared Error (MSE):\", mse)\n",
        "print(\"Mean Absolute Error (MAE):\", mae)\n",
        "print(\"R-squared (R2) Score:\", r2)"
      ],
      "metadata": {
        "colab": {
          "base_uri": "https://localhost:8080/"
        },
        "id": "yeBVmZ52IXta",
        "outputId": "6ecf7f38-61e1-43bb-cf42-ca21b6420984"
      },
      "execution_count": null,
      "outputs": [
        {
          "output_type": "stream",
          "name": "stdout",
          "text": [
            "3125/3125 [==============================] - 5s 2ms/step\n",
            "Mean Squared Error (MSE): 4.125034535961448\n",
            "Mean Absolute Error (MAE): 1.414161374759674\n",
            "R-squared (R2) Score: 0.9344957647936272\n"
          ]
        }
      ]
    },
    {
      "cell_type": "markdown",
      "source": [
        "The RandomForestRegressor still has the best performance. with the lowest MSE and highest Rsquared"
      ],
      "metadata": {
        "id": "1Sa-UFi7Ye60"
      }
    },
    {
      "cell_type": "code",
      "source": [
        "import pickle\n",
        "from google.colab import files\n",
        "\n",
        "with open('LOSModel.pkl','wb') as f:\n",
        "     pickle.dump(regressor,f)\n",
        "files.download('LOSModel.pkl')"
      ],
      "metadata": {
        "id": "kcEx5TNCKfUX",
        "outputId": "c1f856f5-8c7f-4013-dc68-64e95142e21c",
        "colab": {
          "base_uri": "https://localhost:8080/",
          "height": 17
        }
      },
      "execution_count": 25,
      "outputs": [
        {
          "output_type": "display_data",
          "data": {
            "text/plain": [
              "<IPython.core.display.Javascript object>"
            ],
            "application/javascript": [
              "\n",
              "    async function download(id, filename, size) {\n",
              "      if (!google.colab.kernel.accessAllowed) {\n",
              "        return;\n",
              "      }\n",
              "      const div = document.createElement('div');\n",
              "      const label = document.createElement('label');\n",
              "      label.textContent = `Downloading \"${filename}\": `;\n",
              "      div.appendChild(label);\n",
              "      const progress = document.createElement('progress');\n",
              "      progress.max = size;\n",
              "      div.appendChild(progress);\n",
              "      document.body.appendChild(div);\n",
              "\n",
              "      const buffers = [];\n",
              "      let downloaded = 0;\n",
              "\n",
              "      const channel = await google.colab.kernel.comms.open(id);\n",
              "      // Send a message to notify the kernel that we're ready.\n",
              "      channel.send({})\n",
              "\n",
              "      for await (const message of channel.messages) {\n",
              "        // Send a message to notify the kernel that we're ready.\n",
              "        channel.send({})\n",
              "        if (message.buffers) {\n",
              "          for (const buffer of message.buffers) {\n",
              "            buffers.push(buffer);\n",
              "            downloaded += buffer.byteLength;\n",
              "            progress.value = downloaded;\n",
              "          }\n",
              "        }\n",
              "      }\n",
              "      const blob = new Blob(buffers, {type: 'application/binary'});\n",
              "      const a = document.createElement('a');\n",
              "      a.href = window.URL.createObjectURL(blob);\n",
              "      a.download = filename;\n",
              "      div.appendChild(a);\n",
              "      a.click();\n",
              "      div.remove();\n",
              "    }\n",
              "  "
            ]
          },
          "metadata": {}
        },
        {
          "output_type": "display_data",
          "data": {
            "text/plain": [
              "<IPython.core.display.Javascript object>"
            ],
            "application/javascript": [
              "download(\"download_243e814b-d622-4b1f-95b0-825bc8ba021b\", \"LOSModel.pkl\", 973494147)"
            ]
          },
          "metadata": {}
        }
      ]
    },
    {
      "cell_type": "code",
      "source": [
        "from google.colab import files\n",
        "files.download('LOSmodel.pkl')"
      ],
      "metadata": {
        "id": "QMhu2HO3V8Ha",
        "outputId": "7d5c8cc3-52df-4bd7-fb57-896a04d5af40",
        "colab": {
          "base_uri": "https://localhost:8080/",
          "height": 17
        }
      },
      "execution_count": null,
      "outputs": [
        {
          "output_type": "display_data",
          "data": {
            "text/plain": [
              "<IPython.core.display.Javascript object>"
            ],
            "application/javascript": [
              "\n",
              "    async function download(id, filename, size) {\n",
              "      if (!google.colab.kernel.accessAllowed) {\n",
              "        return;\n",
              "      }\n",
              "      const div = document.createElement('div');\n",
              "      const label = document.createElement('label');\n",
              "      label.textContent = `Downloading \"${filename}\": `;\n",
              "      div.appendChild(label);\n",
              "      const progress = document.createElement('progress');\n",
              "      progress.max = size;\n",
              "      div.appendChild(progress);\n",
              "      document.body.appendChild(div);\n",
              "\n",
              "      const buffers = [];\n",
              "      let downloaded = 0;\n",
              "\n",
              "      const channel = await google.colab.kernel.comms.open(id);\n",
              "      // Send a message to notify the kernel that we're ready.\n",
              "      channel.send({})\n",
              "\n",
              "      for await (const message of channel.messages) {\n",
              "        // Send a message to notify the kernel that we're ready.\n",
              "        channel.send({})\n",
              "        if (message.buffers) {\n",
              "          for (const buffer of message.buffers) {\n",
              "            buffers.push(buffer);\n",
              "            downloaded += buffer.byteLength;\n",
              "            progress.value = downloaded;\n",
              "          }\n",
              "        }\n",
              "      }\n",
              "      const blob = new Blob(buffers, {type: 'application/binary'});\n",
              "      const a = document.createElement('a');\n",
              "      a.href = window.URL.createObjectURL(blob);\n",
              "      a.download = filename;\n",
              "      div.appendChild(a);\n",
              "      a.click();\n",
              "      div.remove();\n",
              "    }\n",
              "  "
            ]
          },
          "metadata": {}
        },
        {
          "output_type": "display_data",
          "data": {
            "text/plain": [
              "<IPython.core.display.Javascript object>"
            ],
            "application/javascript": [
              "download(\"download_01d028f6-8eac-43a7-8d3c-9553a2dcd1fb\", \"LOSmodel.pkl\", 0)"
            ]
          },
          "metadata": {}
        }
      ]
    },
    {
      "cell_type": "code",
      "source": [],
      "metadata": {
        "id": "LI0USx6dSDWD"
      },
      "execution_count": null,
      "outputs": []
    }
  ],
  "metadata": {
    "colab": {
      "provenance": []
    },
    "kernelspec": {
      "display_name": "Python 3",
      "name": "python3"
    },
    "language_info": {
      "name": "python"
    }
  },
  "nbformat": 4,
  "nbformat_minor": 0
}